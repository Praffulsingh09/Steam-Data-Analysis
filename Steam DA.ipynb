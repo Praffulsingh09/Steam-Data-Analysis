{
 "cells": [
  {
   "cell_type": "code",
   "execution_count": null,
   "id": "73be7f73",
   "metadata": {
    "papermill": {
     "duration": 1.468637,
     "end_time": "2023-01-18T08:04:36.394965",
     "exception": false,
     "start_time": "2023-01-18T08:04:34.926328",
     "status": "completed"
    },
    "tags": []
   },
   "outputs": [],
   "source": [
    "import pandas as pd\n",
    "import numpy as np\n",
    "import matplotlib.pyplot as plt\n",
    "import seaborn as sns"
   ]
  },
  {
   "cell_type": "code",
   "execution_count": null,
   "id": "d51becff",
   "metadata": {
    "papermill": {
     "duration": 5.925896,
     "end_time": "2023-01-18T08:04:42.359934",
     "exception": false,
     "start_time": "2023-01-18T08:04:36.434038",
     "status": "completed"
    },
    "tags": []
   },
   "outputs": [],
   "source": [
    "df = pd.read_csv(\"C:/Users/Praff/Steam Games 2024.csv\")"
   ]
  },
  {
   "cell_type": "code",
   "execution_count": null,
   "id": "0270a2a9",
   "metadata": {
    "papermill": {
     "duration": 0.080554,
     "end_time": "2023-01-18T08:04:42.478612",
     "exception": false,
     "start_time": "2023-01-18T08:04:42.398058",
     "status": "completed"
    },
    "tags": []
   },
   "outputs": [],
   "source": [
    "df.head(3)"
   ]
  },
  {
   "cell_type": "code",
   "execution_count": null,
   "id": "3439020a-9238-4bd4-b3fc-318062be28b5",
   "metadata": {},
   "outputs": [],
   "source": [
    "df.shape"
   ]
  },
  {
   "cell_type": "code",
   "execution_count": null,
   "id": "3a66a606-f984-45fb-93a9-3862254f5ebd",
   "metadata": {},
   "outputs": [],
   "source": [
    "# Convert columns to appropriate data types\n",
    "df['AppID'] = pd.to_numeric(df['AppID'], errors='coerce')\n",
    "df['Release date'] = pd.to_datetime(df['Release date'], errors='coerce')\n",
    "df['Estimated owners'] = df['Estimated owners'].astype(str)\n",
    "df['Peak CCU'] = pd.to_numeric(df['Peak CCU'], errors='coerce')\n",
    "df['Required age'] = pd.to_numeric(df['Required age'], errors='coerce')\n",
    "df['Price'] = pd.to_numeric(df['Price'], errors='coerce')\n",
    "df['Discount'] = pd.to_numeric(df['Discount'], errors='coerce') \n",
    "df['DLC count'] = pd.to_numeric(df['DLC count'], errors='coerce')\n",
    "df['Windows'] = df['Windows'].astype(bool)\n",
    "df['Mac'] = df['Mac'].astype(bool)\n",
    "df['Linux'] = df['Linux'].astype(bool)\n",
    "df['Metacritic score'] = pd.to_numeric(df['Metacritic score'], errors='coerce')\n",
    "df['User score'] = pd.to_numeric(df['User score'], errors='coerce')\n",
    "df['Positive'] = pd.to_numeric(df['Positive'], errors='coerce')\n",
    "df['Negative'] = pd.to_numeric(df['Negative'], errors='coerce')\n",
    "df['Achievements'] = pd.to_numeric(df['Achievements'], errors='coerce')\n",
    "df['Recommendations'] = pd.to_numeric(df['Recommendations'], errors='coerce')\n",
    "df['Average playtime forever'] = pd.to_numeric(df['Average playtime forever'], errors='coerce')\n",
    "df['Average playtime two weeks'] = pd.to_numeric(df['Average playtime two weeks'], errors='coerce')\n",
    "df['Median playtime forever'] = pd.to_numeric(df['Median playtime forever'], errors='coerce')\n",
    "df['Median playtime two weeks'] = pd.to_numeric(df['Median playtime two weeks'], errors='coerce')\n",
    "\n",
    "df.info()\n"
   ]
  },
  {
   "cell_type": "code",
   "execution_count": null,
   "id": "9fb6a660",
   "metadata": {
    "papermill": {
     "duration": 0.130034,
     "end_time": "2023-01-18T08:04:50.595556",
     "exception": false,
     "start_time": "2023-01-18T08:04:50.465522",
     "status": "completed"
    },
    "tags": []
   },
   "outputs": [],
   "source": [
    "df.isna().sum()"
   ]
  },
  {
   "cell_type": "markdown",
   "id": "8ebdfb32-cb11-4ef8-908b-b5bb649a1a2a",
   "metadata": {},
   "source": [
    "## Data Cleaning"
   ]
  },
  {
   "cell_type": "code",
   "execution_count": null,
   "id": "b083b93a-7d62-4c52-96de-079e63442e60",
   "metadata": {},
   "outputs": [],
   "source": [
    "#creating a copy\n",
    "df_copy = df.copy()"
   ]
  },
  {
   "cell_type": "markdown",
   "id": "39a7b8fd-ab58-4f30-8a43-0539e748a6db",
   "metadata": {},
   "source": [
    "### Dealing with null values in AppID column "
   ]
  },
  {
   "cell_type": "code",
   "execution_count": null,
   "id": "29a552af-683c-4b1e-9bc3-dfc057dc4448",
   "metadata": {},
   "outputs": [],
   "source": [
    "df.loc[df['AppID'].isna()]"
   ]
  },
  {
   "cell_type": "code",
   "execution_count": null,
   "id": "b5dd6b1a-4aea-44de-8e09-eaec00769ac9",
   "metadata": {},
   "outputs": [],
   "source": [
    "df = df.dropna(subset=['AppID'])"
   ]
  },
  {
   "cell_type": "code",
   "execution_count": null,
   "id": "89658502-46e1-4e53-b2b0-909ab657c14c",
   "metadata": {},
   "outputs": [],
   "source": [
    "df.shape"
   ]
  },
  {
   "cell_type": "code",
   "execution_count": null,
   "id": "8815c861-f49e-48c9-b476-71bcfb0c29c9",
   "metadata": {},
   "outputs": [],
   "source": [
    "df.isna().sum()"
   ]
  },
  {
   "cell_type": "markdown",
   "id": "24e80d07",
   "metadata": {
    "papermill": {
     "duration": 0.040211,
     "end_time": "2023-01-18T08:04:50.675054",
     "exception": false,
     "start_time": "2023-01-18T08:04:50.634843",
     "status": "completed"
    },
    "tags": []
   },
   "source": [
    "## Dealing with null values in Name column"
   ]
  },
  {
   "cell_type": "code",
   "execution_count": null,
   "id": "109a4d59",
   "metadata": {
    "papermill": {
     "duration": 0.054796,
     "end_time": "2023-01-18T08:04:50.769147",
     "exception": false,
     "start_time": "2023-01-18T08:04:50.714351",
     "status": "completed"
    },
    "tags": []
   },
   "outputs": [],
   "source": [
    "df.loc[df['Name'].isna()].index"
   ]
  },
  {
   "cell_type": "code",
   "execution_count": null,
   "id": "bedfc608",
   "metadata": {
    "papermill": {
     "duration": 0.088429,
     "end_time": "2023-01-18T08:04:50.896766",
     "exception": false,
     "start_time": "2023-01-18T08:04:50.808337",
     "status": "completed"
    },
    "tags": []
   },
   "outputs": [],
   "source": [
    "df = df.drop(df.loc[df['Name'].isna()].index)"
   ]
  },
  {
   "cell_type": "code",
   "execution_count": null,
   "id": "cc266821",
   "metadata": {
    "papermill": {
     "duration": 0.13649,
     "end_time": "2023-01-18T08:04:51.072794",
     "exception": false,
     "start_time": "2023-01-18T08:04:50.936304",
     "status": "completed"
    },
    "tags": []
   },
   "outputs": [],
   "source": [
    "df.info()"
   ]
  },
  {
   "cell_type": "markdown",
   "id": "c625d807-703c-424d-bcbb-1ac5ed64a140",
   "metadata": {},
   "source": [
    "### Dealing with null values in Release date column"
   ]
  },
  {
   "cell_type": "code",
   "execution_count": null,
   "id": "d7f3aa9b-017b-4a93-8d1d-ab893645b087",
   "metadata": {},
   "outputs": [],
   "source": [
    "# Dropping rows with missing 'Release Date' values is a reasonable approach because:\n",
    "# 1. Small Percentage: With only 131 missing values out of approximately 97,000 rows, the percentage of missing data is quite small (about 0.14%).\n",
    "# This means the removal of these rows will have a minimal impact on your overall dataset and analysis.\n",
    "# 2. Irrelevance of Missing Data: Since the 'Release Date' is not dependent on or related to other columns, \n",
    "# there are no obvious means to infer or fill in these missing values meaningfully. Therefore, dropping these rows is a straightforward solution.\n",
    "# 3. Simplicity: Removing these rows ensures that your dataset is clean and avoids complications in subsequent analysis or modeling \n",
    "# that might arise from handling missing dates.\n",
    "\n",
    "df.dropna(subset=['Release date'], inplace=True)"
   ]
  },
  {
   "cell_type": "code",
   "execution_count": null,
   "id": "80cffa40-bcc7-4043-a7fc-3f06ccf60ad0",
   "metadata": {},
   "outputs": [],
   "source": [
    "df.isna().sum()"
   ]
  },
  {
   "cell_type": "markdown",
   "id": "2e5f9b2d",
   "metadata": {
    "papermill": {
     "duration": 0.03958,
     "end_time": "2023-01-18T08:04:51.152373",
     "exception": false,
     "start_time": "2023-01-18T08:04:51.112793",
     "status": "completed"
    },
    "tags": []
   },
   "source": [
    "## Dealing with null values in About the game column"
   ]
  },
  {
   "cell_type": "code",
   "execution_count": null,
   "id": "91b06729",
   "metadata": {
    "papermill": {
     "duration": 0.132579,
     "end_time": "2023-01-18T08:04:51.324434",
     "exception": false,
     "start_time": "2023-01-18T08:04:51.191855",
     "status": "completed"
    },
    "tags": []
   },
   "outputs": [],
   "source": [
    "df.isna().sum()"
   ]
  },
  {
   "cell_type": "code",
   "execution_count": null,
   "id": "5e0d6ae1",
   "metadata": {
    "papermill": {
     "duration": 0.092942,
     "end_time": "2023-01-18T08:04:51.457142",
     "exception": false,
     "start_time": "2023-01-18T08:04:51.364200",
     "status": "completed"
    },
    "tags": []
   },
   "outputs": [],
   "source": [
    "df.loc[df['About the game'].isna()]"
   ]
  },
  {
   "cell_type": "code",
   "execution_count": null,
   "id": "f74faa3f",
   "metadata": {
    "papermill": {
     "duration": 0.063575,
     "end_time": "2023-01-18T08:04:51.561474",
     "exception": false,
     "start_time": "2023-01-18T08:04:51.497899",
     "status": "completed"
    },
    "tags": []
   },
   "outputs": [],
   "source": [
    "df.loc[df['About the game'].isna(),\"Name\"]"
   ]
  },
  {
   "cell_type": "code",
   "execution_count": null,
   "id": "0c97ab8d",
   "metadata": {
    "papermill": {
     "duration": 0.091718,
     "end_time": "2023-01-18T08:04:51.693893",
     "exception": false,
     "start_time": "2023-01-18T08:04:51.602175",
     "status": "completed"
    },
    "tags": []
   },
   "outputs": [],
   "source": [
    "# most of the games that dont have description are playtest\n",
    "df.loc[df[\"Name\"].str.contains('Playtest'),'About the game'] = \"this is a playtest game is the process by which a game designer tests a new game for bugs and design flaws before releasing it to market.\""
   ]
  },
  {
   "cell_type": "code",
   "execution_count": null,
   "id": "a62296ec",
   "metadata": {
    "papermill": {
     "duration": 0.132864,
     "end_time": "2023-01-18T08:04:51.867583",
     "exception": false,
     "start_time": "2023-01-18T08:04:51.734719",
     "status": "completed"
    },
    "tags": []
   },
   "outputs": [],
   "source": [
    "df.isna().sum()"
   ]
  },
  {
   "cell_type": "code",
   "execution_count": null,
   "id": "86977746",
   "metadata": {
    "papermill": {
     "duration": 0.065373,
     "end_time": "2023-01-18T08:04:51.974325",
     "exception": false,
     "start_time": "2023-01-18T08:04:51.908952",
     "status": "completed"
    },
    "tags": []
   },
   "outputs": [],
   "source": [
    "df.loc[df['About the game'].isna(),\"Name\"]"
   ]
  },
  {
   "cell_type": "code",
   "execution_count": null,
   "id": "b622c0c1",
   "metadata": {
    "papermill": {
     "duration": 4.101907,
     "end_time": "2023-01-18T08:04:56.117708",
     "exception": false,
     "start_time": "2023-01-18T08:04:52.015801",
     "status": "completed"
    },
    "tags": []
   },
   "outputs": [],
   "source": [
    "# There are only 237 games left. I explored them and found certain words that are repeating. \n",
    "# I dealt with them, and then there are a few games left without a description.\n",
    "# For any beta game, the null value is replaced with 'This game is beta and still under testing.'\n",
    "# For any Alpha game, the null value is replaced with 'This game is Alpha and still under testing.'\n",
    "# For any Test game, the null value is replaced with 'This game is Test and still under testing.'\n",
    "# For any playtest game, the null value is replaced with 'This game is playtest and still under testing.'\n",
    "# For any SDK game, the null value is replaced with 'This game is SDK and still under testing.'\n",
    "# For any Demo game, the null value is replaced with 'This game is Demo and still under testing.'\n",
    "# For any server game, the null value is replaced with 'This game is server and still under testing.'\n",
    "# For any editor game, the null value is replaced with 'This game is Editor and still under testing.'\n",
    "\n",
    "for index, row in df.iterrows():\n",
    "    if(pd.isnull(row['About the game'])):\n",
    "        if 'Beta' in row['Name']:\n",
    "            df.at[index, 'About the game'] = 'this game is beta and still under testing'\n",
    "        elif \"Alpha\" in row['Name']:\n",
    "            df.at[index, 'About the game'] = 'this game is Alpha and still under testing'\n",
    "        elif \"beta\" in row['Name']:\n",
    "            df.at[index, 'About the game'] = 'this game is beta and still under testing'\n",
    "        elif \"BETA\" in row['Name']:\n",
    "            df.at[index, 'About the game'] = 'this game is beta and still under testing'\n",
    "        elif \"Test\" in row['Name']:\n",
    "            df.at[index, 'About the game'] = 'this game is and still under testing'\n",
    "        elif \"playtest\" in row['Name']:\n",
    "            df.at[index, 'About the game'] = 'this game is still under testing'\n",
    "        elif \"SDK\" in row['Name']:\n",
    "            df.at[index, 'About the game'] = 'Software Development Kit of the game'\n",
    "        elif \"Demo\" in row['Name']:\n",
    "            df.at[index, 'About the game'] = 'this game is Demo and still under testing'\n",
    "        elif \"Server\" in row['Name']:\n",
    "            df.at[index, 'About the game'] = 'this is a Server for the game'\n",
    "        elif \"Editor\" in row['Name']:\n",
    "            df.at[index, 'About the game'] = 'this is an Editor for the game'\n",
    "        else:\n",
    "            df.at[index, 'About the game'] = 'this game does not have a description'\n",
    "             "
   ]
  },
  {
   "cell_type": "code",
   "execution_count": null,
   "id": "886de5e3",
   "metadata": {
    "papermill": {
     "duration": 0.132541,
     "end_time": "2023-01-18T08:04:56.293391",
     "exception": false,
     "start_time": "2023-01-18T08:04:56.160850",
     "status": "completed"
    },
    "scrolled": true,
    "tags": []
   },
   "outputs": [],
   "source": [
    "df.isna().sum()"
   ]
  },
  {
   "cell_type": "markdown",
   "id": "ca3d799a-1e7d-4c3c-aff0-b0dec9d295f7",
   "metadata": {},
   "source": [
    "### Dealing with null values in Supported languages and Full audio languages"
   ]
  },
  {
   "cell_type": "code",
   "execution_count": null,
   "id": "04fa15b4-1691-4485-988e-9ac6b478d945",
   "metadata": {},
   "outputs": [],
   "source": [
    "df.loc[df['Supported languages'].isna() | df['Full audio languages'].isna()]"
   ]
  },
  {
   "cell_type": "code",
   "execution_count": null,
   "id": "db71b761-236b-4857-a93a-9b3589307b3d",
   "metadata": {},
   "outputs": [],
   "source": [
    "df.loc[df['Name'].isna()].index"
   ]
  },
  {
   "cell_type": "code",
   "execution_count": null,
   "id": "9196711f-7889-40ec-bc59-189c02a658de",
   "metadata": {},
   "outputs": [],
   "source": [
    "df = df.dropna(subset=['Supported languages'])"
   ]
  },
  {
   "cell_type": "code",
   "execution_count": null,
   "id": "41bf79e2-73f2-4817-b56c-124eff4160b9",
   "metadata": {},
   "outputs": [],
   "source": [
    "df.isna().sum()"
   ]
  },
  {
   "cell_type": "markdown",
   "id": "365c8323",
   "metadata": {
    "papermill": {
     "duration": 0.040913,
     "end_time": "2023-01-18T08:04:56.376420",
     "exception": false,
     "start_time": "2023-01-18T08:04:56.335507",
     "status": "completed"
    },
    "tags": []
   },
   "source": [
    "### Dealing with Reviews column"
   ]
  },
  {
   "cell_type": "code",
   "execution_count": null,
   "id": "1f66a547",
   "metadata": {
    "papermill": {
     "duration": 0.06288,
     "end_time": "2023-01-18T08:04:56.480988",
     "exception": false,
     "start_time": "2023-01-18T08:04:56.418108",
     "status": "completed"
    },
    "tags": []
   },
   "outputs": [],
   "source": [
    "df[\"Reviews\"].unique()"
   ]
  },
  {
   "cell_type": "code",
   "execution_count": null,
   "id": "3e1ca046",
   "metadata": {
    "papermill": {
     "duration": 0.089105,
     "end_time": "2023-01-18T08:04:56.611559",
     "exception": false,
     "start_time": "2023-01-18T08:04:56.522454",
     "status": "completed"
    },
    "tags": []
   },
   "outputs": [],
   "source": [
    "df = df.drop('Reviews', axis=1)"
   ]
  },
  {
   "cell_type": "code",
   "execution_count": null,
   "id": "71c50e04",
   "metadata": {
    "papermill": {
     "duration": 0.129781,
     "end_time": "2023-01-18T08:04:56.783038",
     "exception": false,
     "start_time": "2023-01-18T08:04:56.653257",
     "status": "completed"
    },
    "tags": []
   },
   "outputs": [],
   "source": [
    "df.isna().sum()"
   ]
  },
  {
   "cell_type": "markdown",
   "id": "759a839d",
   "metadata": {
    "papermill": {
     "duration": 0.042385,
     "end_time": "2023-01-18T08:04:56.867254",
     "exception": false,
     "start_time": "2023-01-18T08:04:56.824869",
     "status": "completed"
    },
    "tags": []
   },
   "source": [
    "## convert windows , Mac , Linux to one column "
   ]
  },
  {
   "cell_type": "code",
   "execution_count": null,
   "id": "da12786f",
   "metadata": {
    "papermill": {
     "duration": 0.080553,
     "end_time": "2023-01-18T08:04:56.998738",
     "exception": false,
     "start_time": "2023-01-18T08:04:56.918185",
     "status": "completed"
    },
    "tags": []
   },
   "outputs": [],
   "source": [
    "df[\"Windows\"]"
   ]
  },
  {
   "cell_type": "code",
   "execution_count": null,
   "id": "2704b8c0",
   "metadata": {
    "papermill": {
     "duration": 5.987508,
     "end_time": "2023-01-18T08:05:03.036171",
     "exception": false,
     "start_time": "2023-01-18T08:04:57.048663",
     "status": "completed"
    },
    "tags": []
   },
   "outputs": [],
   "source": [
    "# creating new column OS\n",
    "for index, row in df.iterrows():\n",
    "    if row[\"Windows\"] == True:\n",
    "        df.at[index, 'OS'] = \"Windows\"\n",
    "        if row[\"Mac\"] == True:\n",
    "            df.at[index, 'OS'] = \"Windows, Mac\"\n",
    "            if row[\"Linux\"] == True:\n",
    "                df.at[index, 'OS'] = \"Windows, Mac, Linux\"\n",
    "        elif row[\"Linux\"] == True:\n",
    "            df.at[index, 'OS'] = \"Windows, Linux\"\n",
    "    elif row[\"Windows\"] == False and row[\"Mac\"] == True:\n",
    "        df.at[index, 'OS'] = \"Mac\"\n",
    "        if row[\"Linux\"] == True:\n",
    "            df.at[index, 'OS'] = \"Windows, Linux\"\n",
    "    elif row[\"Windows\"] == False and row[\"Mac\"] == False and row[\"Linux\"] == True:\n",
    "        df.at[index, 'OS'] = \"Linux\""
   ]
  },
  {
   "cell_type": "code",
   "execution_count": null,
   "id": "0772ad20",
   "metadata": {
    "papermill": {
     "duration": 0.077003,
     "end_time": "2023-01-18T08:05:03.155886",
     "exception": false,
     "start_time": "2023-01-18T08:05:03.078883",
     "status": "completed"
    },
    "tags": []
   },
   "outputs": [],
   "source": [
    "df.head(5)"
   ]
  },
  {
   "cell_type": "code",
   "execution_count": null,
   "id": "aeb3afb0",
   "metadata": {
    "papermill": {
     "duration": 0.134514,
     "end_time": "2023-01-18T08:05:03.333536",
     "exception": false,
     "start_time": "2023-01-18T08:05:03.199022",
     "status": "completed"
    },
    "scrolled": true,
    "tags": []
   },
   "outputs": [],
   "source": [
    "df.isnull().sum()"
   ]
  },
  {
   "cell_type": "code",
   "execution_count": null,
   "id": "b0d6bb19-43a4-4728-88c0-91b9999ae5e8",
   "metadata": {},
   "outputs": [],
   "source": [
    "# Change the datatype of 'Positive', 'Negative','Achievement','Metacritic score' 'User score','Recommendations', \n",
    "#'Average playtime forever', 'Average playtime two weeks', 'Median playtime forever', and 'Median playtime two weeks' \n",
    "#to int as they have now no null values.\n",
    "df['Positive'] = df['Positive'].astype(int)\n",
    "df['Negative'] = df['Negative'].astype(int)\n",
    "df['Achievements'] = df['Achievements'].astype(int)\n",
    "df['Metacritic score'] = df['Metacritic score'].astype(int)\n",
    "df['User score'] = df['User score'].astype(int)\n",
    "df['Recommendations'] = df['Recommendations'].astype(int)\n",
    "df['Average playtime forever'] = df['Average playtime forever'].astype(int)\n",
    "df['Average playtime two weeks'] = df['Average playtime two weeks'].astype(int)\n",
    "df['Median playtime forever'] = df['Median playtime forever'].astype(int)\n",
    "df['Median playtime two weeks'] = df['Median playtime two weeks'].astype(int)\n"
   ]
  },
  {
   "cell_type": "code",
   "execution_count": null,
   "id": "97af506a-4d9e-4895-a5a2-7679f049d9cb",
   "metadata": {},
   "outputs": [],
   "source": [
    "df.info()"
   ]
  },
  {
   "cell_type": "code",
   "execution_count": null,
   "id": "1b0b6341",
   "metadata": {
    "papermill": {
     "duration": 0.055771,
     "end_time": "2023-01-18T08:05:03.432481",
     "exception": false,
     "start_time": "2023-01-18T08:05:03.376710",
     "status": "completed"
    },
    "tags": []
   },
   "outputs": [],
   "source": [
    "df[\"Metacritic score\"].unique()"
   ]
  },
  {
   "cell_type": "code",
   "execution_count": null,
   "id": "06ea948d",
   "metadata": {
    "papermill": {
     "duration": 0.064176,
     "end_time": "2023-01-18T08:05:03.540384",
     "exception": false,
     "start_time": "2023-01-18T08:05:03.476208",
     "status": "completed"
    },
    "tags": []
   },
   "outputs": [],
   "source": [
    "df_mscore = df.groupby(\"Metacritic score\").agg({\"Name\":\"count\"})\n",
    "df_mscore"
   ]
  },
  {
   "cell_type": "code",
   "execution_count": null,
   "id": "5c370949",
   "metadata": {
    "papermill": {
     "duration": 0.057941,
     "end_time": "2023-01-18T08:05:03.641515",
     "exception": false,
     "start_time": "2023-01-18T08:05:03.583574",
     "status": "completed"
    },
    "tags": []
   },
   "outputs": [],
   "source": [
    "df[\"Metacritic url\"].unique()"
   ]
  },
  {
   "cell_type": "code",
   "execution_count": null,
   "id": "124c6006",
   "metadata": {
    "papermill": {
     "duration": 0.055152,
     "end_time": "2023-01-18T08:05:03.740298",
     "exception": false,
     "start_time": "2023-01-18T08:05:03.685146",
     "status": "completed"
    },
    "tags": []
   },
   "outputs": [],
   "source": [
    "df[\"User score\"].unique()"
   ]
  },
  {
   "cell_type": "code",
   "execution_count": null,
   "id": "370c89f3",
   "metadata": {
    "papermill": {
     "duration": 0.066172,
     "end_time": "2023-01-18T08:05:03.850534",
     "exception": false,
     "start_time": "2023-01-18T08:05:03.784362",
     "status": "completed"
    },
    "tags": []
   },
   "outputs": [],
   "source": [
    "df_uscore = df.groupby(\"User score\").agg({\"Name\":\"count\"})\n",
    "df_uscore"
   ]
  },
  {
   "cell_type": "code",
   "execution_count": null,
   "id": "028fe360",
   "metadata": {
    "papermill": {
     "duration": 0.216889,
     "end_time": "2023-01-18T08:05:04.111519",
     "exception": false,
     "start_time": "2023-01-18T08:05:03.894630",
     "status": "completed"
    },
    "tags": []
   },
   "outputs": [],
   "source": [
    "df_score = df.groupby([\"Name\",\"Positive\",\"Negative\"]).agg({\"Name\":\"count\"})\n",
    "df_score.head(5)"
   ]
  },
  {
   "cell_type": "code",
   "execution_count": null,
   "id": "79505e93",
   "metadata": {
    "papermill": {
     "duration": 0.056659,
     "end_time": "2023-01-18T08:05:04.214063",
     "exception": false,
     "start_time": "2023-01-18T08:05:04.157404",
     "status": "completed"
    },
    "tags": []
   },
   "outputs": [],
   "source": [
    "df[\"Positive\"].unique()"
   ]
  },
  {
   "cell_type": "code",
   "execution_count": null,
   "id": "10513305",
   "metadata": {
    "papermill": {
     "duration": 0.056277,
     "end_time": "2023-01-18T08:05:04.315243",
     "exception": false,
     "start_time": "2023-01-18T08:05:04.258966",
     "status": "completed"
    },
    "tags": []
   },
   "outputs": [],
   "source": [
    "df[\"Negative\"].unique()"
   ]
  },
  {
   "cell_type": "code",
   "execution_count": null,
   "id": "ef9fcb0f",
   "metadata": {
    "papermill": {
     "duration": 0.059276,
     "end_time": "2023-01-18T08:05:04.420823",
     "exception": false,
     "start_time": "2023-01-18T08:05:04.361547",
     "status": "completed"
    },
    "tags": []
   },
   "outputs": [],
   "source": [
    "#number of in game Achievements\n",
    "df[\"Achievements\"].unique()"
   ]
  },
  {
   "cell_type": "code",
   "execution_count": null,
   "id": "e42a70b4",
   "metadata": {
    "papermill": {
     "duration": 0.068964,
     "end_time": "2023-01-18T08:05:04.535407",
     "exception": false,
     "start_time": "2023-01-18T08:05:04.466443",
     "status": "completed"
    },
    "tags": []
   },
   "outputs": [],
   "source": [
    "df_ach = df.groupby(\"Achievements\").agg({\"Name\":\"count\"})\n",
    "df_ach"
   ]
  },
  {
   "cell_type": "code",
   "execution_count": null,
   "id": "7ff549ff",
   "metadata": {
    "papermill": {
     "duration": 0.056914,
     "end_time": "2023-01-18T08:05:04.890719",
     "exception": false,
     "start_time": "2023-01-18T08:05:04.833805",
     "status": "completed"
    },
    "tags": []
   },
   "outputs": [],
   "source": [
    "df[\"Recommendations\"].unique()"
   ]
  },
  {
   "cell_type": "code",
   "execution_count": null,
   "id": "9c276f0a",
   "metadata": {
    "papermill": {
     "duration": 0.06994,
     "end_time": "2023-01-18T08:05:05.007306",
     "exception": false,
     "start_time": "2023-01-18T08:05:04.937366",
     "status": "completed"
    },
    "tags": []
   },
   "outputs": [],
   "source": [
    "df_avgf = df.groupby(\"Average playtime forever\").agg({\"Name\":\"count\"})\n",
    "df_avgf"
   ]
  },
  {
   "cell_type": "code",
   "execution_count": null,
   "id": "016df179",
   "metadata": {
    "papermill": {
     "duration": 0.069761,
     "end_time": "2023-01-18T08:05:05.123771",
     "exception": false,
     "start_time": "2023-01-18T08:05:05.054010",
     "status": "completed"
    },
    "tags": []
   },
   "outputs": [],
   "source": [
    "df_avgw = df.groupby(\"Average playtime two weeks\").agg({\"Name\":\"count\"})\n",
    "df_avgw"
   ]
  },
  {
   "cell_type": "markdown",
   "id": "ce2b5122",
   "metadata": {
    "papermill": {
     "duration": 0.050305,
     "end_time": "2023-01-18T08:05:05.221058",
     "exception": false,
     "start_time": "2023-01-18T08:05:05.170753",
     "status": "completed"
    },
    "tags": []
   },
   "source": [
    "### cleaning Developers and puplishers columns together"
   ]
  },
  {
   "cell_type": "code",
   "execution_count": null,
   "id": "ccc84bf6",
   "metadata": {
    "papermill": {
     "duration": 0.073975,
     "end_time": "2023-01-18T08:05:05.342376",
     "exception": false,
     "start_time": "2023-01-18T08:05:05.268401",
     "status": "completed"
    },
    "tags": []
   },
   "outputs": [],
   "source": [
    "df[\"Developers\"].unique()"
   ]
  },
  {
   "cell_type": "code",
   "execution_count": null,
   "id": "5001be83",
   "metadata": {
    "papermill": {
     "duration": 0.143955,
     "end_time": "2023-01-18T08:05:05.533053",
     "exception": false,
     "start_time": "2023-01-18T08:05:05.389098",
     "status": "completed"
    },
    "tags": []
   },
   "outputs": [],
   "source": [
    "df.loc[df['Developers'].isna()]"
   ]
  },
  {
   "cell_type": "code",
   "execution_count": null,
   "id": "906dcfb7-6a28-45df-a23c-220391d1d95f",
   "metadata": {},
   "outputs": [],
   "source": [
    "df.isnull().sum()"
   ]
  },
  {
   "cell_type": "code",
   "execution_count": null,
   "id": "cc8b9436",
   "metadata": {
    "papermill": {
     "duration": 0.064434,
     "end_time": "2023-01-18T08:05:05.830634",
     "exception": false,
     "start_time": "2023-01-18T08:05:05.766200",
     "status": "completed"
    },
    "tags": []
   },
   "outputs": [],
   "source": [
    "df.loc[df['Developers'].isna(),\"Name\"].unique()"
   ]
  },
  {
   "cell_type": "code",
   "execution_count": null,
   "id": "e18d0953",
   "metadata": {
    "papermill": {
     "duration": 0.097385,
     "end_time": "2023-01-18T08:05:05.975954",
     "exception": false,
     "start_time": "2023-01-18T08:05:05.878569",
     "status": "completed"
    },
    "tags": []
   },
   "outputs": [],
   "source": [
    "df.loc[df['Developers'].isna()]"
   ]
  },
  {
   "cell_type": "code",
   "execution_count": null,
   "id": "a9acb467",
   "metadata": {
    "papermill": {
     "duration": 0.099832,
     "end_time": "2023-01-18T08:05:06.125560",
     "exception": false,
     "start_time": "2023-01-18T08:05:06.025728",
     "status": "completed"
    },
    "tags": []
   },
   "outputs": [],
   "source": [
    "df.loc[df['Publishers'].isna()]"
   ]
  },
  {
   "cell_type": "code",
   "execution_count": null,
   "id": "baf66344",
   "metadata": {
    "papermill": {
     "duration": 4.196945,
     "end_time": "2023-01-18T08:05:10.372134",
     "exception": false,
     "start_time": "2023-01-18T08:05:06.175189",
     "status": "completed"
    },
    "tags": []
   },
   "outputs": [],
   "source": [
    "count = 0\n",
    "for index, row in df.iterrows():\n",
    "    if(pd.isnull(row['Publishers'])):\n",
    "        if(pd.isnull(row['Developers'])):\n",
    "            continue\n",
    "        else:\n",
    "            print(row['Developers'])\n",
    "            count += 1\n",
    "print(count)"
   ]
  },
  {
   "cell_type": "code",
   "execution_count": null,
   "id": "7c5e90cb",
   "metadata": {
    "papermill": {
     "duration": 0.140637,
     "end_time": "2023-01-18T08:05:10.563429",
     "exception": false,
     "start_time": "2023-01-18T08:05:10.422792",
     "status": "completed"
    },
    "tags": []
   },
   "outputs": [],
   "source": [
    "df.isnull().sum()\n"
   ]
  },
  {
   "cell_type": "code",
   "execution_count": null,
   "id": "ef48031d",
   "metadata": {
    "papermill": {
     "duration": 4.084086,
     "end_time": "2023-01-18T08:05:14.698418",
     "exception": false,
     "start_time": "2023-01-18T08:05:10.614332",
     "status": "completed"
    },
    "tags": []
   },
   "outputs": [],
   "source": [
    "# I found that there are 350 games where the developer is mentioned but the publisher is not mentioned\n",
    "# so I assigned the publisher to be the same as the developer\n",
    "for index, row in df.iterrows():\n",
    "    if(pd.isnull(row['Publishers'])):\n",
    "        if(pd.isnull(row['Developers'])):\n",
    "            continue\n",
    "        else:\n",
    "            df.at[index, 'Publishers'] = df.at[index, 'Developers']"
   ]
  },
  {
   "cell_type": "code",
   "execution_count": null,
   "id": "69c9a1c1",
   "metadata": {
    "papermill": {
     "duration": 0.13975,
     "end_time": "2023-01-18T08:05:14.890007",
     "exception": false,
     "start_time": "2023-01-18T08:05:14.750257",
     "status": "completed"
    },
    "tags": []
   },
   "outputs": [],
   "source": [
    "df.isnull().sum()"
   ]
  },
  {
   "cell_type": "code",
   "execution_count": null,
   "id": "f2f24847",
   "metadata": {
    "papermill": {
     "duration": 4.164909,
     "end_time": "2023-01-18T08:05:19.106939",
     "exception": false,
     "start_time": "2023-01-18T08:05:14.942030",
     "status": "completed"
    },
    "tags": []
   },
   "outputs": [],
   "source": [
    "count = 0\n",
    "for index, row in df.iterrows():\n",
    "    if(pd.isnull(row['Developers'])):\n",
    "        if(pd.isnull(row['Publishers'])):\n",
    "            continue\n",
    "        else:\n",
    "            print(row['Publishers'])\n",
    "            count += 1\n",
    "print(count)"
   ]
  },
  {
   "cell_type": "code",
   "execution_count": null,
   "id": "927b7bd3",
   "metadata": {
    "papermill": {
     "duration": 4.000912,
     "end_time": "2023-01-18T08:05:23.160166",
     "exception": false,
     "start_time": "2023-01-18T08:05:19.159254",
     "status": "completed"
    },
    "tags": []
   },
   "outputs": [],
   "source": [
    "# I found that there are 58 games where the Publisher is mentioned but the Developer is not mentioned\n",
    "# so I assigned the developer to be the same as the publisher\n",
    "for index, row in df.iterrows():\n",
    "    if(pd.isnull(row['Developers'])):\n",
    "        if(pd.isnull(row['Publishers'])):\n",
    "            continue\n",
    "        else:\n",
    "            df.at[index, 'Developers'] = df.at[index, 'Publishers']"
   ]
  },
  {
   "cell_type": "code",
   "execution_count": null,
   "id": "bcb382d2",
   "metadata": {
    "papermill": {
     "duration": 0.145437,
     "end_time": "2023-01-18T08:05:23.360872",
     "exception": false,
     "start_time": "2023-01-18T08:05:23.215435",
     "status": "completed"
    },
    "tags": []
   },
   "outputs": [],
   "source": [
    "df.isnull().sum()"
   ]
  },
  {
   "cell_type": "code",
   "execution_count": null,
   "id": "881053a9",
   "metadata": {
    "papermill": {
     "duration": 0.070264,
     "end_time": "2023-01-18T08:05:23.485238",
     "exception": false,
     "start_time": "2023-01-18T08:05:23.414974",
     "status": "completed"
    },
    "tags": []
   },
   "outputs": [],
   "source": [
    "df.loc[df['Developers'].isna(),\"Name\"].unique()"
   ]
  },
  {
   "cell_type": "code",
   "execution_count": null,
   "id": "1d29fccd",
   "metadata": {
    "papermill": {
     "duration": 0.071289,
     "end_time": "2023-01-18T08:05:23.611804",
     "exception": false,
     "start_time": "2023-01-18T08:05:23.540515",
     "status": "completed"
    },
    "tags": []
   },
   "outputs": [],
   "source": [
    "df.loc[df['Publishers'].isna(),\"Name\"].unique()"
   ]
  },
  {
   "cell_type": "code",
   "execution_count": null,
   "id": "8835620d",
   "metadata": {
    "papermill": {
     "duration": 0.104867,
     "end_time": "2023-01-18T08:05:23.770906",
     "exception": false,
     "start_time": "2023-01-18T08:05:23.666039",
     "status": "completed"
    },
    "tags": []
   },
   "outputs": [],
   "source": [
    "df.loc[df['Developers'].isna()]"
   ]
  },
  {
   "cell_type": "code",
   "execution_count": null,
   "id": "0b496fa0",
   "metadata": {
    "papermill": {
     "duration": 0.102987,
     "end_time": "2023-01-18T08:05:23.928872",
     "exception": false,
     "start_time": "2023-01-18T08:05:23.825885",
     "status": "completed"
    },
    "tags": []
   },
   "outputs": [],
   "source": [
    "df.loc[df['Publishers'].isna()]"
   ]
  },
  {
   "cell_type": "code",
   "execution_count": null,
   "id": "cddeebc0",
   "metadata": {
    "papermill": {
     "duration": 4.186122,
     "end_time": "2023-01-18T08:05:28.172035",
     "exception": false,
     "start_time": "2023-01-18T08:05:23.985913",
     "status": "completed"
    },
    "tags": []
   },
   "outputs": [],
   "source": [
    "# After exploring the Developers column, I noticed some repeating keywords and handled each case accordingly. \n",
    "# I left with very few games where the developer is not mentioned.\n",
    "\n",
    "# for any beta game the null value is replaced with 'this game is Playtest and still under development'\n",
    "# for any Alpha game the null value is replaced with 'this game is Alpha and still under testing the developer is not mentioned'\n",
    "# for any Test game the null value is replaced with 'this game is test and still under testing the developer is not mentioned'\n",
    "# for any playtest game the null value is replaced with 'this game is playtest still under testing the developer is not mentioned'\n",
    "# for any SDK game the null value is replaced with 'this game is SDK still under testing the developer is not mentioned'\n",
    "# for any Demo game the null value is replaced with 'this game is Demo still under testing the developer is not mentioned'\n",
    "# for any server game the null value is replaced with 'this game is server still under testing the developer is not mentioned'\n",
    "# for any editor game the null value is replaced with 'this game is Editor still under testing the developer is not mentioned'\n",
    "\n",
    "for index, row in df.iterrows():\n",
    "    if(pd.isnull(row['Developers'])):\n",
    "        if 'Playtest' in row['Name']:\n",
    "            df.at[index, 'Developers'] = 'this game is Playtest and still under development'\n",
    "        elif \"Alpha\" in row['Name']:\n",
    "            df.at[index, 'Developers'] = 'this game is Alpha and still under testing the developer is not mentioned'\n",
    "        elif \"beta\" in row['Name']:\n",
    "            df.at[index, 'Developers'] = 'this game is beta and still under testing the developer is not mentioned'\n",
    "        elif \"BETA\" in row['Name']:\n",
    "            df.at[index, 'Developers'] = 'this game is beta and still under testing the developer is not mentioned'\n",
    "        elif \"Test\" in row['Name']:\n",
    "            df.at[index, 'Developers'] = 'this game is and still under testing the developer is not mentioned'\n",
    "        elif \"playtest\" in row['Name']:\n",
    "            df.at[index, 'Developers'] = 'this game is still under testing the developer is not mentioned'\n",
    "        elif \"SDK\" in row['Name']:\n",
    "            df.at[index, 'Developers'] = 'Software Development Kit of the game the developer is not mentioned'\n",
    "        elif \"Demo\" in row['Name']:\n",
    "            df.at[index, 'Developers'] = 'this game is Demo and still under testing the developer is not mentioned'\n",
    "        elif \"Server\" in row['Name']:\n",
    "            df.at[index, 'Developers'] = 'this is a Server for the game the developer is not mentioned'\n",
    "        elif \"Editor\" in row['Name']:\n",
    "            df.at[index, 'Developers'] = 'this is an Editor for the game the developer is not mentioned'\n",
    "        elif \"Beta\" in row['Name']:\n",
    "            df.at[index, 'Developers'] = 'this game is beta and still under testing the developer is not mentioned'\n",
    "        else:\n",
    "            df.at[index, 'Developers'] = 'No developer mentioned for this game'\n",
    "  "
   ]
  },
  {
   "cell_type": "code",
   "execution_count": null,
   "id": "f150bc85",
   "metadata": {
    "papermill": {
     "duration": 4.24979,
     "end_time": "2023-01-18T08:05:32.490782",
     "exception": false,
     "start_time": "2023-01-18T08:05:28.240992",
     "status": "completed"
    },
    "tags": []
   },
   "outputs": [],
   "source": [
    "# After exploring the Publishers column, I noticed some repeating keywords and handled each case accordingly. \n",
    "#I left with very few games where the Publisher is not mentioned.\n",
    "\n",
    "# For any beta game, the null value is replaced with 'this game is Playtest and still under development.'\n",
    "# For any Alpha game, the null value is replaced with 'this game is Alpha and still under testing; the publisher is not mentioned.'\n",
    "# For any Test game, the null value is replaced with 'this game is in testing; the publisher is not mentioned.'\n",
    "# For any playtest game, the null value is replaced with 'this game is in playtest and still under testing; the publisher is not mentioned.'\n",
    "# For any SDK game, the null value is replaced with 'this game is an SDK still under testing; the publisher is not mentioned.'\n",
    "# For any Demo game, the null value is replaced with 'this game is a Demo and still under testing; the publisher is not mentioned.'\n",
    "# For any server game, the null value is replaced with 'this game is a server and still under testing; the publisher is not mentioned.'\n",
    "# For any editor game, the null value is replaced with 'this game is an Editor and still under testing; the publisher is not mentioned.'\n",
    "\n",
    "for index, row in df.iterrows():\n",
    "    if(pd.isnull(row['Publishers'])):\n",
    "        if 'Playtest' in row['Name']:\n",
    "            df.at[index, 'Publishers'] = 'this game is Playtest and still under development'\n",
    "        elif \"Alpha\" in row['Name']:\n",
    "            df.at[index, 'Publishers'] = 'this game is Alpha and still under testing the publisher is not mentioned'\n",
    "        elif \"beta\" in row['Name']:\n",
    "            df.at[index, 'Publishers'] = 'this game is beta and still under testing the publisher is not mentioned'\n",
    "        elif \"BETA\" in row['Name']:\n",
    "            df.at[index, 'Publishers'] = 'this game is beta and still under testing the publisher is not mentioned'\n",
    "        elif \"Test\" in row['Name']:\n",
    "            df.at[index, 'Publishers'] = 'this game is and still under testing the publisher is not mentioned'\n",
    "        elif \"playtest\" in row['Name']:\n",
    "            df.at[index, 'Publishers'] = 'this game is still under testing the publisher is not mentioned'\n",
    "        elif \"SDK\" in row['Name']:\n",
    "            df.at[index, 'Publishers'] = 'Software Development Kit of the game the publisher is not mentioned'\n",
    "        elif \"Demo\" in row['Name']:\n",
    "            df.at[index, 'Publishers'] = 'this game is Demo and still under testing the publisher is not mentioned'\n",
    "        elif \"Server\" in row['Name']:\n",
    "            df.at[index, 'Publishers'] = 'this is a Server for the game the publisher is not mentioned'\n",
    "        elif \"Editor\" in row['Name']:\n",
    "            df.at[index, 'Publishers'] = 'this is an Editor for the game the publisher is not mentioned'\n",
    "        elif \"Beta\" in row['Name']:\n",
    "            df.at[index, 'Publishers'] = 'this game is beta and still under testing the publisher is not mentioned'\n",
    "        else:\n",
    "            df.at[index, 'Publishers'] = 'No publisher mentioned for this game'\n",
    "  "
   ]
  },
  {
   "cell_type": "code",
   "execution_count": null,
   "id": "eec918c8",
   "metadata": {
    "papermill": {
     "duration": 0.145627,
     "end_time": "2023-01-18T08:05:32.693500",
     "exception": false,
     "start_time": "2023-01-18T08:05:32.547873",
     "status": "completed"
    },
    "scrolled": true,
    "tags": []
   },
   "outputs": [],
   "source": [
    "df.isnull().sum()"
   ]
  },
  {
   "cell_type": "markdown",
   "id": "59edb05e",
   "metadata": {
    "papermill": {
     "duration": 0.055458,
     "end_time": "2023-01-18T08:05:32.804487",
     "exception": false,
     "start_time": "2023-01-18T08:05:32.749029",
     "status": "completed"
    },
    "tags": []
   },
   "source": [
    "### Cleaning categories column "
   ]
  },
  {
   "cell_type": "code",
   "execution_count": null,
   "id": "fe932c9b",
   "metadata": {
    "papermill": {
     "duration": 0.073718,
     "end_time": "2023-01-18T08:05:32.933995",
     "exception": false,
     "start_time": "2023-01-18T08:05:32.860277",
     "status": "completed"
    },
    "tags": []
   },
   "outputs": [],
   "source": [
    "df[\"Categories\"].unique()"
   ]
  },
  {
   "cell_type": "code",
   "execution_count": null,
   "id": "b6cb540b",
   "metadata": {
    "papermill": {
     "duration": 0.071211,
     "end_time": "2023-01-18T08:05:33.063164",
     "exception": false,
     "start_time": "2023-01-18T08:05:32.991953",
     "status": "completed"
    },
    "tags": []
   },
   "outputs": [],
   "source": [
    "df[\"Genres\"].unique()"
   ]
  },
  {
   "cell_type": "code",
   "execution_count": null,
   "id": "8407f1e5",
   "metadata": {
    "papermill": {
     "duration": 0.085235,
     "end_time": "2023-01-18T08:05:33.204957",
     "exception": false,
     "start_time": "2023-01-18T08:05:33.119722",
     "status": "completed"
    },
    "tags": []
   },
   "outputs": [],
   "source": [
    "df[\"Tags\"].unique()"
   ]
  },
  {
   "cell_type": "code",
   "execution_count": null,
   "id": "269b13e9",
   "metadata": {
    "papermill": {
     "duration": 0.076266,
     "end_time": "2023-01-18T08:05:33.338792",
     "exception": false,
     "start_time": "2023-01-18T08:05:33.262526",
     "status": "completed"
    },
    "tags": []
   },
   "outputs": [],
   "source": [
    "df.loc[df['Categories'].isna(),\"Name\"].unique()"
   ]
  },
  {
   "cell_type": "code",
   "execution_count": null,
   "id": "194f0615",
   "metadata": {
    "papermill": {
     "duration": 3.983681,
     "end_time": "2023-01-18T08:05:37.379342",
     "exception": false,
     "start_time": "2023-01-18T08:05:33.395661",
     "status": "completed"
    },
    "tags": []
   },
   "outputs": [],
   "source": [
    "count = 0\n",
    "for index, row in df.iterrows():\n",
    "    if(pd.isnull(row['Categories'])):\n",
    "        if 'Playtest' in row['Name']:\n",
    "            count += 1\n",
    "        else:\n",
    "            continue\n",
    "    else:\n",
    "        continue\n",
    "print(count)"
   ]
  },
  {
   "cell_type": "code",
   "execution_count": null,
   "id": "3240e432-3365-4122-ba38-0743da5a3f7e",
   "metadata": {},
   "outputs": [],
   "source": [
    "keywords = ['Playtest', 'Alpha', 'beta', 'BETA', 'Test', 'playtest', 'SDK', 'Demo', 'Server', 'Editor', 'Beta']\n",
    "count = 0\n",
    "for index, row in df.iterrows():\n",
    "    if pd.isnull(row['Categories']):\n",
    "        if any(keyword in row['Name'] for keyword in keywords):\n",
    "            count += 1\n",
    "print(count)"
   ]
  },
  {
   "cell_type": "code",
   "execution_count": null,
   "id": "17805cc0",
   "metadata": {
    "papermill": {
     "duration": 4.273285,
     "end_time": "2023-01-18T08:05:45.927219",
     "exception": false,
     "start_time": "2023-01-18T08:05:41.653934",
     "status": "completed"
    },
    "tags": []
   },
   "outputs": [],
   "source": [
    "# After exploring the Categories column, I noticed that some key words are repeating. I dealt with each case\n",
    "#I left with very few games where the Categories are not mentioned.\n",
    "\n",
    "# For any beta game, the null value is replaced with 'Beta game not playable.'\n",
    "# For any Alpha game, the null value is replaced with 'Alpha game not playable.'\n",
    "# For any Test game, the null value is replaced with 'Test game not playable.'\n",
    "# For any playtest game, the null value is replaced with 'Playtest game not playable.'\n",
    "# For any SDK game, the null value is replaced with 'Software Development Kit of the game not playable.'\n",
    "# For any Demo game, the null value is replaced with 'Demo game not playable.'\n",
    "# For any server game, the null value is replaced with 'Server of a game not playable.'\n",
    "# For any editor game, the null value is replaced with 'Editor game not playable.'\n",
    "\n",
    "for index, row in df.iterrows():\n",
    "    if(pd.isnull(row['Categories'])):\n",
    "        if 'Playtest' in row['Name']:\n",
    "            df.at[index, 'Categories'] = 'Playtest game not playable'\n",
    "        elif \"Alpha\" in row['Name']:\n",
    "            df.at[index, 'Categories'] = 'Alpha game not playable'\n",
    "        elif \"beta\" in row['Name']:\n",
    "            df.at[index, 'Categories'] = 'Beta game not playable'\n",
    "        elif \"BETA\" in row['Name']:\n",
    "            df.at[index, 'Categories'] = 'Beta game not playable'\n",
    "        elif \"Test\" in row['Name']:\n",
    "            df.at[index, 'Categories'] = 'test game not playable'\n",
    "        elif \"playtest\" in row['Name']:\n",
    "            df.at[index, 'Categories'] = 'Playtest game not playable'\n",
    "        elif \"SDK\" in row['Name']:\n",
    "            df.at[index, 'Categories'] = 'Software Development Kit of the game not playable'\n",
    "        elif \"Demo\" in row['Name']:\n",
    "            df.at[index, 'Categories'] = 'Demo game not playable'\n",
    "        elif \"Server\" in row['Name']:\n",
    "            df.at[index, 'Categories'] = 'Server of a game not playable'\n",
    "        elif \"Editor\" in row['Name']:\n",
    "            df.at[index, 'Categories'] = 'Editor of a game not playable'\n",
    "        elif \"Beta\" in row['Name']:\n",
    "            df.at[index, 'Categories'] = 'Beta game not playable'\n",
    "        else:\n",
    "            continue"
   ]
  },
  {
   "cell_type": "code",
   "execution_count": null,
   "id": "dc83bec4",
   "metadata": {
    "papermill": {
     "duration": 0.150909,
     "end_time": "2023-01-18T08:05:46.138947",
     "exception": false,
     "start_time": "2023-01-18T08:05:45.988038",
     "status": "completed"
    },
    "tags": []
   },
   "outputs": [],
   "source": [
    "df.isnull().sum()"
   ]
  },
  {
   "cell_type": "code",
   "execution_count": null,
   "id": "988c0e2a",
   "metadata": {
    "papermill": {
     "duration": 0.076556,
     "end_time": "2023-01-18T08:05:46.277555",
     "exception": false,
     "start_time": "2023-01-18T08:05:46.200999",
     "status": "completed"
    },
    "tags": []
   },
   "outputs": [],
   "source": [
    "df.loc[df['Categories'].isna(),\"Name\"].unique()"
   ]
  },
  {
   "cell_type": "code",
   "execution_count": null,
   "id": "e7789c16",
   "metadata": {
    "papermill": {
     "duration": 0.077703,
     "end_time": "2023-01-18T08:05:46.417463",
     "exception": false,
     "start_time": "2023-01-18T08:05:46.339760",
     "status": "completed"
    },
    "tags": []
   },
   "outputs": [],
   "source": [
    "df.loc[df['Categories'].isna(),\"Name\"]"
   ]
  },
  {
   "cell_type": "code",
   "execution_count": null,
   "id": "e1088d9a",
   "metadata": {
    "papermill": {
     "duration": 4.066323,
     "end_time": "2023-01-18T08:05:50.541042",
     "exception": false,
     "start_time": "2023-01-18T08:05:46.474719",
     "status": "completed"
    },
    "tags": []
   },
   "outputs": [],
   "source": [
    "# dealing with remaining games with missing data:\n",
    "for index, row in df.iterrows():\n",
    "    if(pd.isnull(row['Categories'])):\n",
    "        df.at[index, 'Categories'] = 'no Category added'\n"
   ]
  },
  {
   "cell_type": "code",
   "execution_count": null,
   "id": "509519aa",
   "metadata": {
    "papermill": {
     "duration": 0.146906,
     "end_time": "2023-01-18T08:05:50.745715",
     "exception": false,
     "start_time": "2023-01-18T08:05:50.598809",
     "status": "completed"
    },
    "tags": []
   },
   "outputs": [],
   "source": [
    "df.isnull().sum()"
   ]
  },
  {
   "cell_type": "markdown",
   "id": "0a6a5ca8",
   "metadata": {
    "papermill": {
     "duration": 0.05732,
     "end_time": "2023-01-18T08:05:50.860053",
     "exception": false,
     "start_time": "2023-01-18T08:05:50.802733",
     "status": "completed"
    },
    "tags": []
   },
   "source": [
    "### Cleaning Genres column "
   ]
  },
  {
   "cell_type": "code",
   "execution_count": null,
   "id": "4d66a907",
   "metadata": {
    "papermill": {
     "duration": 0.07272,
     "end_time": "2023-01-18T08:05:50.990000",
     "exception": false,
     "start_time": "2023-01-18T08:05:50.917280",
     "status": "completed"
    },
    "tags": []
   },
   "outputs": [],
   "source": [
    "df[\"Genres\"].unique()"
   ]
  },
  {
   "cell_type": "code",
   "execution_count": null,
   "id": "368ff8a6-0010-4ba3-aa3d-4b6f59d1add0",
   "metadata": {},
   "outputs": [],
   "source": [
    "keywords = ['Playtest', 'Alpha', 'beta', 'BETA', 'Test', 'playtest', 'SDK', 'Demo', 'Server', 'Editor', 'Beta']\n",
    "count = 0\n",
    "for index, row in df.iterrows():\n",
    "    if pd.isnull(row['Genres']):\n",
    "        if any(keyword in row['Name'] for keyword in keywords):\n",
    "            count += 1\n",
    "print(count)"
   ]
  },
  {
   "cell_type": "code",
   "execution_count": null,
   "id": "76111bfe",
   "metadata": {
    "papermill": {
     "duration": 4.190443,
     "end_time": "2023-01-18T08:05:59.413321",
     "exception": false,
     "start_time": "2023-01-18T08:05:55.222878",
     "status": "completed"
    },
    "tags": []
   },
   "outputs": [],
   "source": [
    "# After exploring the Genres column, I noticed that some key words are repeating. I dealt with each case\n",
    "#I left with very few games where the Genres are not mentioned.\n",
    "\n",
    "# for any beta game the null value is replaced with 'Beta game not playable'\n",
    "# for any Alpha game the null value is replaced with 'Alpha  game not playable'\n",
    "# for any Test game the null value is replaced with 'this game game not playable'\n",
    "# for any playtest game the null value is replaced with 'Playtest game not playable'\n",
    "# for any SDK game the null value is replaced with 'Software Development Kit of the game not playable'\n",
    "# for any Demo game the null value is replaced with 'Demo game not playable'\n",
    "# for any server game the null value is replaced with 'Server of a game not playable'\n",
    "# for any editor game the null value is replaced with 'Beta game not playable'\n",
    "\n",
    "for index, row in df.iterrows():\n",
    "    if(pd.isnull(row['Genres'])):\n",
    "        if 'Playtest' in row['Name']:\n",
    "            df.at[index, 'Genres'] = 'Playtest game not playable'\n",
    "        elif \"Alpha\" in row['Name']:\n",
    "            df.at[index, 'Genres'] = 'Alpha game not playable'\n",
    "        elif \"beta\" in row['Name']:\n",
    "            df.at[index, 'Genres'] = 'Beta game not playable'\n",
    "        elif \"BETA\" in row['Name']:\n",
    "            df.at[index, 'Genres'] = 'Beta game not playable'\n",
    "        elif \"Test\" in row['Name']:\n",
    "            df.at[index, 'Genres'] = 'test game not playable'\n",
    "        elif \"playtest\" in row['Name']:\n",
    "            df.at[index, 'Genres'] = 'Playtest game not playable'\n",
    "        elif \"SDK\" in row['Name']:\n",
    "            df.at[index, 'Genres'] = 'Software Development Kit of the game not playable'\n",
    "        elif \"Demo\" in row['Name']:\n",
    "            df.at[index, 'Genres'] = 'Demo game not playable'\n",
    "        elif \"Server\" in row['Name']:\n",
    "            df.at[index, 'Genres'] = 'Server of a game not playable'\n",
    "        elif \"Editor\" in row['Name']:\n",
    "            df.at[index, 'Genres'] = 'Editor of a game not playable'\n",
    "        elif \"Beta\" in row['Name']:\n",
    "            df.at[index, 'Genres'] = 'Beta game not playable'\n",
    "        else:\n",
    "            continue"
   ]
  },
  {
   "cell_type": "code",
   "execution_count": null,
   "id": "f1162d5d",
   "metadata": {
    "papermill": {
     "duration": 0.161238,
     "end_time": "2023-01-18T08:05:59.638995",
     "exception": false,
     "start_time": "2023-01-18T08:05:59.477757",
     "status": "completed"
    },
    "tags": []
   },
   "outputs": [],
   "source": [
    "df.isnull().sum()"
   ]
  },
  {
   "cell_type": "code",
   "execution_count": null,
   "id": "5287c03f",
   "metadata": {
    "papermill": {
     "duration": 0.075566,
     "end_time": "2023-01-18T08:05:59.780180",
     "exception": false,
     "start_time": "2023-01-18T08:05:59.704614",
     "status": "completed"
    },
    "tags": []
   },
   "outputs": [],
   "source": [
    "df.loc[df[\"Genres\"].isnull(),\"Name\"]"
   ]
  },
  {
   "cell_type": "code",
   "execution_count": null,
   "id": "4548fe22",
   "metadata": {
    "papermill": {
     "duration": 4.000147,
     "end_time": "2023-01-18T08:06:03.838321",
     "exception": false,
     "start_time": "2023-01-18T08:05:59.838174",
     "status": "completed"
    },
    "tags": []
   },
   "outputs": [],
   "source": [
    "# dealing with remaining games left\n",
    "for index, row in df.iterrows():\n",
    "    if(pd.isnull(row['Genres'])):\n",
    "        df.at[index, 'Genres'] = 'no Genres added'"
   ]
  },
  {
   "cell_type": "code",
   "execution_count": null,
   "id": "d44bbfae",
   "metadata": {
    "papermill": {
     "duration": 0.148411,
     "end_time": "2023-01-18T08:06:04.046256",
     "exception": false,
     "start_time": "2023-01-18T08:06:03.897845",
     "status": "completed"
    },
    "tags": []
   },
   "outputs": [],
   "source": [
    "df.isnull().sum()"
   ]
  },
  {
   "cell_type": "markdown",
   "id": "5755b1ba",
   "metadata": {
    "papermill": {
     "duration": 0.058062,
     "end_time": "2023-01-18T08:06:04.162786",
     "exception": false,
     "start_time": "2023-01-18T08:06:04.104724",
     "status": "completed"
    },
    "tags": []
   },
   "source": [
    "### cleaning Tags column"
   ]
  },
  {
   "cell_type": "code",
   "execution_count": null,
   "id": "0005b5df",
   "metadata": {
    "papermill": {
     "duration": 0.083343,
     "end_time": "2023-01-18T08:06:04.307490",
     "exception": false,
     "start_time": "2023-01-18T08:06:04.224147",
     "status": "completed"
    },
    "tags": []
   },
   "outputs": [],
   "source": [
    "df[\"Genres\"].unique()"
   ]
  },
  {
   "cell_type": "code",
   "execution_count": null,
   "id": "59c8f54b-8dd7-4632-b725-c38e7eb718de",
   "metadata": {},
   "outputs": [],
   "source": [
    "df[\"Tags\"].unique()"
   ]
  },
  {
   "cell_type": "code",
   "execution_count": null,
   "id": "978ba6e7",
   "metadata": {
    "papermill": {
     "duration": 0.130339,
     "end_time": "2023-01-18T08:06:04.632817",
     "exception": false,
     "start_time": "2023-01-18T08:06:04.502478",
     "status": "completed"
    },
    "tags": []
   },
   "outputs": [],
   "source": [
    "df.loc[df['Tags'].isna()]"
   ]
  },
  {
   "cell_type": "code",
   "execution_count": null,
   "id": "b2e76234",
   "metadata": {
    "papermill": {
     "duration": 4.394337,
     "end_time": "2023-01-18T08:06:09.086620",
     "exception": false,
     "start_time": "2023-01-18T08:06:04.692283",
     "status": "completed"
    },
    "tags": []
   },
   "outputs": [],
   "source": [
    "# I noticed that the tags for each game are very similar to the genres of the game.\n",
    "# Therefore, for every game that has no tags, the genres will be used to replace the missing tags.\n",
    "for index, row in df.iterrows():\n",
    "    if(pd.isnull(row['Tags'])):\n",
    "        df.at[index, 'Tags'] = df.at[index, 'Genres']\n",
    "    "
   ]
  },
  {
   "cell_type": "code",
   "execution_count": null,
   "id": "0e17d801",
   "metadata": {
    "papermill": {
     "duration": 0.209339,
     "end_time": "2023-01-18T08:06:09.356261",
     "exception": false,
     "start_time": "2023-01-18T08:06:09.146922",
     "status": "completed"
    },
    "tags": []
   },
   "outputs": [],
   "source": [
    "df.isnull().sum()"
   ]
  },
  {
   "cell_type": "markdown",
   "id": "a48ba855",
   "metadata": {
    "papermill": {
     "duration": 0.060129,
     "end_time": "2023-01-18T08:06:09.477111",
     "exception": false,
     "start_time": "2023-01-18T08:06:09.416982",
     "status": "completed"
    },
    "tags": []
   },
   "source": [
    "### cleaning screenshots column"
   ]
  },
  {
   "cell_type": "code",
   "execution_count": null,
   "id": "71e047f7",
   "metadata": {
    "papermill": {
     "duration": 0.136957,
     "end_time": "2023-01-18T08:06:09.674231",
     "exception": false,
     "start_time": "2023-01-18T08:06:09.537274",
     "status": "completed"
    },
    "tags": []
   },
   "outputs": [],
   "source": [
    "df[\"Screenshots\"].unique()"
   ]
  },
  {
   "cell_type": "code",
   "execution_count": null,
   "id": "2ec7946a",
   "metadata": {
    "papermill": {
     "duration": 4.098889,
     "end_time": "2023-01-18T08:06:13.835218",
     "exception": false,
     "start_time": "2023-01-18T08:06:09.736329",
     "status": "completed"
    },
    "tags": []
   },
   "outputs": [],
   "source": [
    "count = 0\n",
    "for index, row in df.iterrows():\n",
    "    if(pd.isnull(row['Screenshots'])):\n",
    "        if 'Playtest' in row['Name']:\n",
    "            count += 1\n",
    "        else:\n",
    "            continue\n",
    "    else:\n",
    "        continue\n",
    "print(count)"
   ]
  },
  {
   "cell_type": "code",
   "execution_count": null,
   "id": "afcc586f",
   "metadata": {
    "papermill": {
     "duration": 4.015441,
     "end_time": "2023-01-18T08:06:17.912659",
     "exception": false,
     "start_time": "2023-01-18T08:06:13.897218",
     "status": "completed"
    },
    "tags": []
   },
   "outputs": [],
   "source": [
    "# For any playtest game, replace null values with 'Playtest game no screenshot available'.\n",
    "# For all other games, replace null values with 'No screenshot available'.\n",
    "for index, row in df.iterrows():\n",
    "    if(pd.isnull(row['Screenshots'])):\n",
    "        if 'Playtest' in row['Name']:\n",
    "            df.at[index, 'Screenshots'] = 'Playtest game no screenshot available'\n",
    "        else:\n",
    "            df.at[index, 'Screenshots'] = 'no screenshot available'"
   ]
  },
  {
   "cell_type": "code",
   "execution_count": null,
   "id": "5ed89da9",
   "metadata": {
    "papermill": {
     "duration": 0.150888,
     "end_time": "2023-01-18T08:06:18.124997",
     "exception": false,
     "start_time": "2023-01-18T08:06:17.974109",
     "status": "completed"
    },
    "scrolled": true,
    "tags": []
   },
   "outputs": [],
   "source": [
    "df.isnull().sum()"
   ]
  },
  {
   "cell_type": "markdown",
   "id": "b571929b",
   "metadata": {
    "papermill": {
     "duration": 0.061938,
     "end_time": "2023-01-18T08:06:18.248828",
     "exception": false,
     "start_time": "2023-01-18T08:06:18.186890",
     "status": "completed"
    },
    "tags": []
   },
   "source": [
    "## cleaning Movies column"
   ]
  },
  {
   "cell_type": "code",
   "execution_count": null,
   "id": "51808775",
   "metadata": {
    "papermill": {
     "duration": 0.091867,
     "end_time": "2023-01-18T08:06:18.402926",
     "exception": false,
     "start_time": "2023-01-18T08:06:18.311059",
     "status": "completed"
    },
    "tags": []
   },
   "outputs": [],
   "source": [
    "df[\"Movies\"].unique()"
   ]
  },
  {
   "cell_type": "code",
   "execution_count": null,
   "id": "63d24e1a-eeaa-4248-a015-60c1aa7f757d",
   "metadata": {},
   "outputs": [],
   "source": [
    "keywords = ['Playtest', 'Alpha', 'beta', 'BETA', 'Test', 'playtest', 'SDK', 'Demo', 'Server', 'Editor', 'Beta']\n",
    "count = 0\n",
    "for index, row in df.iterrows():\n",
    "    if pd.isnull(row['Movies']):\n",
    "        if any(keyword in row['Name'] for keyword in keywords):\n",
    "            count += 1\n",
    "print(count)"
   ]
  },
  {
   "cell_type": "code",
   "execution_count": null,
   "id": "c8c64cc9",
   "metadata": {
    "papermill": {
     "duration": 4.310937,
     "end_time": "2023-01-18T08:06:27.077389",
     "exception": false,
     "start_time": "2023-01-18T08:06:22.766452",
     "status": "completed"
    },
    "tags": []
   },
   "outputs": [],
   "source": [
    "# For any beta game, null values are replaced with 'Beta Playtest game no trailer available'.\n",
    "# For any Alpha game, null values are replaced with 'Alpha Playtest game no trailer available'.\n",
    "# For any Test game, null values are replaced with 'This game no trailer available'.\n",
    "# For any playtest game, null values are replaced with 'Playtest game no trailer available'.\n",
    "# For any SDK game, null values are replaced with 'Software Development Kit of the game no trailer available'.\n",
    "# For any Demo game, null values are replaced with 'Demo game no trailer available'.\n",
    "# For any server game, null values are replaced with 'Server of a game no trailer available'.\n",
    "# For any editor game, null values are replaced with 'Editor game no trailer available'.\n",
    "# For anything else, null values are replaced with 'No trailer available'.\n",
    "\n",
    "for index, row in df.iterrows():\n",
    "    if(pd.isnull(row['Movies'])):\n",
    "        if 'Playtest' in row['Name']:\n",
    "            df.at[index, 'Movies'] = 'Playtest game no trailer available'\n",
    "        elif \"Alpha\" in row['Name']:\n",
    "            df.at[index, 'Movies'] = 'Alpha game no trailer available'\n",
    "        elif \"beta\" in row['Name']:\n",
    "            df.at[index, 'Movies'] = 'Beta game no trailer available'\n",
    "        elif \"BETA\" in row['Name']:\n",
    "            df.at[index, 'Movies'] = 'Beta game no trailer available'\n",
    "        elif \"Test\" in row['Name']:\n",
    "            df.at[index, 'Movies'] = 'test game no trailer available'\n",
    "        elif \"playtest\" in row['Name']:\n",
    "            df.at[index, 'Movies'] = 'Playtest game no trailer available'\n",
    "        elif \"SDK\" in row['Name']:\n",
    "            df.at[index, 'Movies'] = 'Software Development Kit of the game no trailer available'\n",
    "        elif \"Demo\" in row['Name']:\n",
    "            df.at[index, 'Movies'] = 'Demo game no trailer available'\n",
    "        elif \"Server\" in row['Name']:\n",
    "            df.at[index, 'Movies'] = 'Server of a game no trailer available'\n",
    "        elif \"Editor\" in row['Name']:\n",
    "            df.at[index, 'Movies'] = 'Editor of a game no trailer available'\n",
    "        elif \"Beta\" in row['Name']:\n",
    "            df.at[index, 'Movies'] = 'Beta game no trailer available'\n",
    "        else:\n",
    "            df.at[index, 'Movies'] = 'no trailer available'"
   ]
  },
  {
   "cell_type": "code",
   "execution_count": null,
   "id": "955bb1a1",
   "metadata": {
    "papermill": {
     "duration": 0.182216,
     "end_time": "2023-01-18T08:06:27.322940",
     "exception": false,
     "start_time": "2023-01-18T08:06:27.140724",
     "status": "completed"
    },
    "tags": []
   },
   "outputs": [],
   "source": [
    "df.isnull().sum()"
   ]
  },
  {
   "cell_type": "markdown",
   "id": "7a082091",
   "metadata": {
    "papermill": {
     "duration": 0.066186,
     "end_time": "2023-01-18T08:06:27.454294",
     "exception": false,
     "start_time": "2023-01-18T08:06:27.388108",
     "status": "completed"
    },
    "tags": []
   },
   "source": [
    "### Deleting the columns 'notes', 'score rank', 'Metacritic url', 'website', and 'Support url' because they have more than 50% null values."
   ]
  },
  {
   "cell_type": "code",
   "execution_count": null,
   "id": "9236b807",
   "metadata": {
    "papermill": {
     "duration": 0.217712,
     "end_time": "2023-01-18T08:06:27.736915",
     "exception": false,
     "start_time": "2023-01-18T08:06:27.519203",
     "status": "completed"
    },
    "tags": []
   },
   "outputs": [],
   "source": [
    "df = df.drop('Notes', axis=1)\n",
    "df = df.drop('Score rank', axis=1)\n",
    "df = df.drop('Metacritic url', axis=1)\n",
    "df = df.drop('Support url', axis=1)\n",
    "df = df.drop('Website', axis=1)"
   ]
  },
  {
   "cell_type": "code",
   "execution_count": null,
   "id": "65482040",
   "metadata": {
    "papermill": {
     "duration": 0.143906,
     "end_time": "2023-01-18T08:06:27.946589",
     "exception": false,
     "start_time": "2023-01-18T08:06:27.802683",
     "status": "completed"
    },
    "tags": []
   },
   "outputs": [],
   "source": [
    "df.isnull().sum()"
   ]
  },
  {
   "cell_type": "markdown",
   "id": "29c00e0d",
   "metadata": {
    "papermill": {
     "duration": 0.062211,
     "end_time": "2023-01-18T08:06:28.071209",
     "exception": false,
     "start_time": "2023-01-18T08:06:28.008998",
     "status": "completed"
    },
    "tags": []
   },
   "source": [
    "### cleaning Support email column"
   ]
  },
  {
   "cell_type": "code",
   "execution_count": null,
   "id": "838a438f",
   "metadata": {
    "papermill": {
     "duration": 0.087292,
     "end_time": "2023-01-18T08:06:28.224068",
     "exception": false,
     "start_time": "2023-01-18T08:06:28.136776",
     "status": "completed"
    },
    "tags": []
   },
   "outputs": [],
   "source": [
    "df[\"Support email\"].unique()"
   ]
  },
  {
   "cell_type": "code",
   "execution_count": null,
   "id": "394f8e39-938a-4a1b-97f5-6e391fd7ec0b",
   "metadata": {},
   "outputs": [],
   "source": [
    "keywords = ['Playtest', 'Alpha', 'beta', 'BETA', 'Test', 'playtest', 'SDK', 'Demo', 'Server', 'Editor', 'Beta']\n",
    "count = 0\n",
    "for index, row in df.iterrows():\n",
    "    if pd.isnull(row['Support email']):\n",
    "        if any(keyword in row['Name'] for keyword in keywords):\n",
    "            count += 1\n",
    "print(count)"
   ]
  },
  {
   "cell_type": "code",
   "execution_count": null,
   "id": "ec3d83c6",
   "metadata": {
    "papermill": {
     "duration": 4.697377,
     "end_time": "2023-01-18T08:06:37.530310",
     "exception": false,
     "start_time": "2023-01-18T08:06:32.832933",
     "status": "completed"
    },
    "tags": []
   },
   "outputs": [],
   "source": [
    "# For any beta game, null values are replaced with 'Beta no Support email available'.\n",
    "# For any Alpha game, null values are replaced with 'Alpha no Support email available'.\n",
    "# For any Test game, null values are replaced with 'This test game no Support email available'.\n",
    "# For any playtest game, null values are replaced with 'Playtest game no Support email available'.\n",
    "# For any SDK game, null values are replaced with 'Software Development Kit of the game no Support email available'.\n",
    "# For any Demo game, null values are replaced with 'Demo game no Support email available'.\n",
    "# For any server game, null values are replaced with 'Server of a game no Support email available'.\n",
    "# For any editor game, null values are replaced with 'Editor game no Support email available'.\n",
    "# For anything else, null values are replaced with 'No Support email available'.\n",
    "\n",
    "for index, row in df.iterrows():\n",
    "    if(pd.isnull(row['Support email'])):\n",
    "        if 'Playtest' in row['Name']:\n",
    "            df.at[index, 'Support email'] = 'Playtest game no Support email available'\n",
    "        elif \"Alpha\" in row['Name']:\n",
    "            df.at[index, 'Support email'] = 'Alpha game no Support email available'\n",
    "        elif \"beta\" in row['Name']:\n",
    "            df.at[index, 'Support email'] = 'Beta game no Support email available'\n",
    "        elif \"BETA\" in row['Name']:\n",
    "            df.at[index, 'Support email'] = 'Beta game no Support email available'\n",
    "        elif \"Test\" in row['Name']:\n",
    "            df.at[index, 'Support email'] = 'test game no Support email available'\n",
    "        elif \"playtest\" in row['Name']:\n",
    "            df.at[index, 'Support email'] = 'Playtest game no Support email available'\n",
    "        elif \"SDK\" in row['Name']:\n",
    "            df.at[index, 'Support email'] = 'Software Development Kit of the game no Support email available'\n",
    "        elif \"Demo\" in row['Name']:\n",
    "            df.at[index, 'Support email'] = 'Demo game no Support email available'\n",
    "        elif \"Server\" in row['Name']:\n",
    "            df.at[index, 'Support email'] = 'Server of a game no Support email available'\n",
    "        elif \"Editor\" in row['Name']:\n",
    "            df.at[index, 'Support email'] = 'Editor of a game no Support email available'\n",
    "        elif \"Beta\" in row['Name']:\n",
    "            df.at[index, 'Support email'] = 'Beta game no Support email available'\n",
    "        else:\n",
    "            df.at[index, 'Support email'] = 'no Support email available'"
   ]
  },
  {
   "cell_type": "code",
   "execution_count": null,
   "id": "2b6c8d1a",
   "metadata": {
    "papermill": {
     "duration": 0.141911,
     "end_time": "2023-01-18T08:06:37.735580",
     "exception": false,
     "start_time": "2023-01-18T08:06:37.593669",
     "status": "completed"
    },
    "tags": []
   },
   "outputs": [],
   "source": [
    "df.isnull().sum()"
   ]
  },
  {
   "cell_type": "markdown",
   "id": "f11490b0",
   "metadata": {
    "papermill": {
     "duration": 0.063998,
     "end_time": "2023-01-18T08:06:38.133021",
     "exception": false,
     "start_time": "2023-01-18T08:06:38.069023",
     "status": "completed"
    },
    "tags": []
   },
   "source": [
    "## Data visulization "
   ]
  },
  {
   "cell_type": "code",
   "execution_count": null,
   "id": "8025ffb1",
   "metadata": {
    "papermill": {
     "duration": 0.092002,
     "end_time": "2023-01-18T08:06:38.290677",
     "exception": false,
     "start_time": "2023-01-18T08:06:38.198675",
     "status": "completed"
    },
    "tags": []
   },
   "outputs": [],
   "source": [
    "from plotly import express as px\n",
    "import plotly.io as pio\n",
    "# Set the default template to 'plotly_dark'\n",
    "pio.templates.default = \"plotly_dark\""
   ]
  },
  {
   "cell_type": "markdown",
   "id": "be267e78",
   "metadata": {
    "papermill": {
     "duration": 0.062816,
     "end_time": "2023-01-18T08:06:38.416810",
     "exception": false,
     "start_time": "2023-01-18T08:06:38.353994",
     "status": "completed"
    },
    "tags": []
   },
   "source": [
    "### Most Downloaded games"
   ]
  },
  {
   "cell_type": "code",
   "execution_count": null,
   "id": "f2c9a01e",
   "metadata": {
    "papermill": {
     "duration": 0.075628,
     "end_time": "2023-01-18T08:06:38.555493",
     "exception": false,
     "start_time": "2023-01-18T08:06:38.479865",
     "status": "completed"
    },
    "tags": []
   },
   "outputs": [],
   "source": [
    "df[\"Estimated owners\"]"
   ]
  },
  {
   "cell_type": "code",
   "execution_count": null,
   "id": "3f138ff8",
   "metadata": {
    "papermill": {
     "duration": 0.073672,
     "end_time": "2023-01-18T08:06:38.692581",
     "exception": false,
     "start_time": "2023-01-18T08:06:38.618909",
     "status": "completed"
    },
    "tags": []
   },
   "outputs": [],
   "source": [
    "# Since the number of owners is provided as a range, I calculated the median of the range for use in comparisons.\n",
    "def owners_clean(x):\n",
    "    x = x.strip()\n",
    "    x= x.split(\"-\")\n",
    "    x = [num.strip(' ') for num in x]\n",
    "    num1 = int(x[0])\n",
    "    num2 = int(x[1])\n",
    "    med = (num2 - num1)/2\n",
    "    return med"
   ]
  },
  {
   "cell_type": "code",
   "execution_count": null,
   "id": "633906aa",
   "metadata": {
    "papermill": {
     "duration": 0.074469,
     "end_time": "2023-01-18T08:06:38.829917",
     "exception": false,
     "start_time": "2023-01-18T08:06:38.755448",
     "status": "completed"
    },
    "tags": []
   },
   "outputs": [],
   "source": [
    "owners_clean(\"0 - 20000\")"
   ]
  },
  {
   "cell_type": "code",
   "execution_count": null,
   "id": "acb8dd46",
   "metadata": {
    "papermill": {
     "duration": 5.302801,
     "end_time": "2023-01-18T08:06:44.195457",
     "exception": false,
     "start_time": "2023-01-18T08:06:38.892656",
     "status": "completed"
    },
    "tags": []
   },
   "outputs": [],
   "source": [
    "for index, row in df.iterrows(): \n",
    "     df.at[index, 'owners clean'] = owners_clean(df.at[index, 'Estimated owners'])"
   ]
  },
  {
   "cell_type": "code",
   "execution_count": null,
   "id": "329ada2e",
   "metadata": {
    "papermill": {
     "duration": 0.076356,
     "end_time": "2023-01-18T08:06:44.334864",
     "exception": false,
     "start_time": "2023-01-18T08:06:44.258508",
     "status": "completed"
    },
    "tags": []
   },
   "outputs": [],
   "source": [
    "df[\"owners clean\"]"
   ]
  },
  {
   "cell_type": "code",
   "execution_count": null,
   "id": "b8c5e64b",
   "metadata": {
    "papermill": {
     "duration": 0.193277,
     "end_time": "2023-01-18T08:06:44.590672",
     "exception": false,
     "start_time": "2023-01-18T08:06:44.397395",
     "status": "completed"
    },
    "tags": []
   },
   "outputs": [],
   "source": [
    "most_downloaded_games = df.groupby(\"Name\").agg({\"owners clean\":\"sum\"}).reset_index().sort_values(\"owners clean\",ascending=False).head(10)"
   ]
  },
  {
   "cell_type": "code",
   "execution_count": null,
   "id": "b88ffede",
   "metadata": {
    "papermill": {
     "duration": 0.078918,
     "end_time": "2023-01-18T08:06:44.790297",
     "exception": false,
     "start_time": "2023-01-18T08:06:44.711379",
     "status": "completed"
    },
    "tags": []
   },
   "outputs": [],
   "source": [
    "most_downloaded_games"
   ]
  },
  {
   "cell_type": "code",
   "execution_count": null,
   "id": "43882a6a",
   "metadata": {
    "papermill": {
     "duration": 0.940359,
     "end_time": "2023-01-18T08:06:45.794249",
     "exception": false,
     "start_time": "2023-01-18T08:06:44.853890",
     "status": "completed"
    },
    "tags": []
   },
   "outputs": [],
   "source": [
    "most_downloaded_games_graph = px.bar(most_downloaded_games, y='owners clean', x='Name', title='most downloaded games')\n",
    "most_downloaded_games_graph.show()"
   ]
  },
  {
   "cell_type": "markdown",
   "id": "3c674e04",
   "metadata": {
    "papermill": {
     "duration": 0.064114,
     "end_time": "2023-01-18T08:06:45.922543",
     "exception": false,
     "start_time": "2023-01-18T08:06:45.858429",
     "status": "completed"
    },
    "tags": []
   },
   "source": [
    "### Most expensive games"
   ]
  },
  {
   "cell_type": "code",
   "execution_count": null,
   "id": "8af0c60a",
   "metadata": {
    "papermill": {
     "duration": 0.078119,
     "end_time": "2023-01-18T08:06:46.065366",
     "exception": false,
     "start_time": "2023-01-18T08:06:45.987247",
     "status": "completed"
    },
    "tags": []
   },
   "outputs": [],
   "source": [
    "df[\"Price\"]"
   ]
  },
  {
   "cell_type": "code",
   "execution_count": null,
   "id": "fc1bdec1",
   "metadata": {
    "papermill": {
     "duration": 0.197133,
     "end_time": "2023-01-18T08:06:46.326556",
     "exception": false,
     "start_time": "2023-01-18T08:06:46.129423",
     "status": "completed"
    },
    "tags": []
   },
   "outputs": [],
   "source": [
    "most_expensive_games = df.groupby(\"Name\").agg({\"Price\":\"sum\"}).reset_index().sort_values(\"Price\",ascending=False).head(10)"
   ]
  },
  {
   "cell_type": "code",
   "execution_count": null,
   "id": "8a27d5eb",
   "metadata": {
    "papermill": {
     "duration": 0.080756,
     "end_time": "2023-01-18T08:06:46.470639",
     "exception": false,
     "start_time": "2023-01-18T08:06:46.389883",
     "status": "completed"
    },
    "tags": []
   },
   "outputs": [],
   "source": [
    "most_expensive_games"
   ]
  },
  {
   "cell_type": "code",
   "execution_count": null,
   "id": "d8cb4ee5",
   "metadata": {
    "papermill": {
     "duration": 0.127203,
     "end_time": "2023-01-18T08:06:46.662393",
     "exception": false,
     "start_time": "2023-01-18T08:06:46.535190",
     "status": "completed"
    },
    "tags": []
   },
   "outputs": [],
   "source": [
    "most_expensive_games_graph = px.bar(most_expensive_games, y='Price', x='Name', title='most expinsive games')\n",
    "most_expensive_games_graph.show()"
   ]
  },
  {
   "cell_type": "markdown",
   "id": "327bc293",
   "metadata": {
    "papermill": {
     "duration": 0.065578,
     "end_time": "2023-01-18T08:06:46.793926",
     "exception": false,
     "start_time": "2023-01-18T08:06:46.728348",
     "status": "completed"
    },
    "tags": []
   },
   "source": [
    "### Most downloaded games and their prices\r\n"
   ]
  },
  {
   "cell_type": "code",
   "execution_count": null,
   "id": "673a7622",
   "metadata": {
    "papermill": {
     "duration": 0.226561,
     "end_time": "2023-01-18T08:06:47.085544",
     "exception": false,
     "start_time": "2023-01-18T08:06:46.858983",
     "status": "completed"
    },
    "tags": []
   },
   "outputs": [],
   "source": [
    "most_downloaded_games_price = df.groupby([\"Name\",\"Price\"]).agg({\"owners clean\":\"sum\"}).reset_index().sort_values(\"owners clean\",ascending=False).head(10)"
   ]
  },
  {
   "cell_type": "code",
   "execution_count": null,
   "id": "fffa7cd5",
   "metadata": {
    "papermill": {
     "duration": 0.084748,
     "end_time": "2023-01-18T08:06:47.238099",
     "exception": false,
     "start_time": "2023-01-18T08:06:47.153351",
     "status": "completed"
    },
    "tags": []
   },
   "outputs": [],
   "source": [
    "most_downloaded_games_price"
   ]
  },
  {
   "cell_type": "code",
   "execution_count": null,
   "id": "828d400e-11f2-4ad9-977d-3e0cf216048e",
   "metadata": {},
   "outputs": [],
   "source": [
    "import plotly.graph_objects as go\n",
    "fig = go.Figure()\n",
    "\n",
    "fig.add_trace(go.Bar(\n",
    "    x=most_downloaded_games_price['Name'],\n",
    "    y=most_downloaded_games_price['owners clean'],\n",
    "    name='Number of Downloads',\n",
    "    yaxis='y1'\n",
    "))\n",
    "\n",
    "fig.add_trace(go.Scatter(\n",
    "    x=most_downloaded_games_price['Name'],\n",
    "    y=most_downloaded_games_price['Price'],\n",
    "    name='Price',\n",
    "    mode='lines+markers',\n",
    "    yaxis='y2'\n",
    "))\n",
    "\n",
    "fig.update_layout(\n",
    "    title='Most Downloaded Games and Their Prices',\n",
    "    xaxis_title='Game Name',\n",
    "    yaxis_title='Number of Downloads (Millions)',\n",
    "    yaxis=dict(\n",
    "        title='Number of Downloads (Millions)',\n",
    "        titlefont=dict(color='lightblue'),\n",
    "        tickformat='.0f',\n",
    "        tickvals=[0, 10000000, 20000000, 30000000, 40000000, 50000000],\n",
    "        ticktext=['0M', '10M', '20M', '30M', '40M', '50M']\n",
    "    ),\n",
    "    yaxis2=dict(\n",
    "        title='Price (USD)',\n",
    "        overlaying='y',\n",
    "        side='right'\n",
    "    ),\n",
    "    xaxis=dict(tickangle=45),\n",
    "    template='plotly_dark',\n",
    "    height=600  \n",
    ")\n",
    "fig.show()"
   ]
  },
  {
   "cell_type": "markdown",
   "id": "83ee1272",
   "metadata": {
    "papermill": {
     "duration": 0.06558,
     "end_time": "2023-01-18T08:06:47.581960",
     "exception": false,
     "start_time": "2023-01-18T08:06:47.516380",
     "status": "completed"
    },
    "tags": []
   },
   "source": [
    "### Prices distribution"
   ]
  },
  {
   "cell_type": "code",
   "execution_count": null,
   "id": "9370f57b-710b-4d95-aac0-1d90edf0dbf8",
   "metadata": {},
   "outputs": [],
   "source": [
    "Prices_distribution_graph = px.box(df, y=\"Price\")\n",
    "Prices_distribution_graph"
   ]
  },
  {
   "cell_type": "code",
   "execution_count": null,
   "id": "17c7601d",
   "metadata": {
    "papermill": {
     "duration": 0.080607,
     "end_time": "2023-01-18T08:06:48.118603",
     "exception": false,
     "start_time": "2023-01-18T08:06:48.037996",
     "status": "completed"
    },
    "tags": []
   },
   "outputs": [],
   "source": [
    "# Adding a 'Free or Paid' column to estimate the number of free and paid games in the store\n",
    "def free_or_paid(x):\n",
    "    if x == 0:\n",
    "        return \"Free\"\n",
    "    else:\n",
    "        return \"paid\""
   ]
  },
  {
   "cell_type": "code",
   "execution_count": null,
   "id": "03656891",
   "metadata": {
    "papermill": {
     "duration": 5.251369,
     "end_time": "2023-01-18T08:06:53.443736",
     "exception": false,
     "start_time": "2023-01-18T08:06:48.192367",
     "status": "completed"
    },
    "tags": []
   },
   "outputs": [],
   "source": [
    "for index, row in df.iterrows(): \n",
    "     df.at[index, 'Free or paid'] = free_or_paid(df.at[index, 'Price'])"
   ]
  },
  {
   "cell_type": "code",
   "execution_count": null,
   "id": "dcaf25fc",
   "metadata": {
    "papermill": {
     "duration": 0.10864,
     "end_time": "2023-01-18T08:06:53.630796",
     "exception": false,
     "start_time": "2023-01-18T08:06:53.522156",
     "status": "completed"
    },
    "tags": []
   },
   "outputs": [],
   "source": [
    "df.head(2)"
   ]
  },
  {
   "cell_type": "code",
   "execution_count": null,
   "id": "e7b2e58a",
   "metadata": {
    "papermill": {
     "duration": 0.101596,
     "end_time": "2023-01-18T08:06:53.809212",
     "exception": false,
     "start_time": "2023-01-18T08:06:53.707616",
     "status": "completed"
    },
    "tags": []
   },
   "outputs": [],
   "source": [
    "paid_and_free_count = df.groupby(\"Free or paid\").agg({\n",
    "    \"Name\":\"count\"\n",
    "}).reset_index()\n",
    "paid_and_free_count"
   ]
  },
  {
   "cell_type": "code",
   "execution_count": null,
   "id": "c7ecae6d",
   "metadata": {
    "papermill": {
     "duration": 0.147582,
     "end_time": "2023-01-18T08:06:54.028221",
     "exception": false,
     "start_time": "2023-01-18T08:06:53.880639",
     "status": "completed"
    },
    "tags": []
   },
   "outputs": [],
   "source": [
    "paid_and_free_count_graph = px.pie(paid_and_free_count, values='Name', names='Free or paid',\n",
    "                                   title='Percentage distribution of free and paid games in the store')\n",
    "paid_and_free_count_graph.show()"
   ]
  },
  {
   "cell_type": "markdown",
   "id": "64a3dfd0",
   "metadata": {
    "papermill": {
     "duration": 0.074768,
     "end_time": "2023-01-18T08:06:54.178864",
     "exception": false,
     "start_time": "2023-01-18T08:06:54.104096",
     "status": "completed"
    },
    "tags": []
   },
   "source": [
    "### Average downloads for free and paid games"
   ]
  },
  {
   "cell_type": "code",
   "execution_count": null,
   "id": "839782c1",
   "metadata": {
    "papermill": {
     "duration": 0.098644,
     "end_time": "2023-01-18T08:06:54.353277",
     "exception": false,
     "start_time": "2023-01-18T08:06:54.254633",
     "status": "completed"
    },
    "tags": []
   },
   "outputs": [],
   "source": [
    "paid_and_free_downloads = df.groupby(\"Free or paid\").agg({\"owners clean\":\"mean\"}).reset_index()\n",
    "paid_and_free_downloads"
   ]
  },
  {
   "cell_type": "code",
   "execution_count": null,
   "id": "4246c4f4",
   "metadata": {
    "papermill": {
     "duration": 0.13992,
     "end_time": "2023-01-18T08:06:54.571163",
     "exception": false,
     "start_time": "2023-01-18T08:06:54.431243",
     "status": "completed"
    },
    "tags": []
   },
   "outputs": [],
   "source": [
    "paid_and_free_downloads_graph = px.bar(paid_and_free_downloads, y='owners clean', x='Free or paid', title='Average downloads for free and paid games')\n",
    "paid_and_free_downloads_graph.show()"
   ]
  },
  {
   "cell_type": "code",
   "execution_count": null,
   "id": "f3b46486",
   "metadata": {
    "papermill": {
     "duration": 0.088098,
     "end_time": "2023-01-18T08:06:54.735475",
     "exception": false,
     "start_time": "2023-01-18T08:06:54.647377",
     "status": "completed"
    },
    "tags": []
   },
   "outputs": [],
   "source": [
    "df.columns"
   ]
  },
  {
   "cell_type": "markdown",
   "id": "1fb5cbaa",
   "metadata": {
    "papermill": {
     "duration": 0.074772,
     "end_time": "2023-01-18T08:06:54.886441",
     "exception": false,
     "start_time": "2023-01-18T08:06:54.811669",
     "status": "completed"
    },
    "tags": []
   },
   "source": [
    "### Most Supported languages "
   ]
  },
  {
   "cell_type": "code",
   "execution_count": null,
   "id": "4e522534",
   "metadata": {
    "papermill": {
     "duration": 0.147144,
     "end_time": "2023-01-18T08:06:55.109887",
     "exception": false,
     "start_time": "2023-01-18T08:06:54.962743",
     "status": "completed"
    },
    "tags": []
   },
   "outputs": [],
   "source": [
    "df[\"Supported languages\"]"
   ]
  },
  {
   "cell_type": "code",
   "execution_count": null,
   "id": "a5a66ab0",
   "metadata": {
    "papermill": {
     "duration": 0.879745,
     "end_time": "2023-01-18T08:06:56.066510",
     "exception": false,
     "start_time": "2023-01-18T08:06:55.186765",
     "status": "completed"
    },
    "tags": []
   },
   "outputs": [],
   "source": [
    "language_count = {}\n",
    "for language in df['Supported languages'].to_list():\n",
    "    language = language.strip()\n",
    "    language_sub = language.split(',')\n",
    "    for key in language_sub:\n",
    "        key = key.strip()\n",
    "        key = key.replace(\"'\", \"\")\n",
    "        key = key.replace(\"[\", \"\")\n",
    "        key = key.replace(\"]\", \"\")\n",
    "        key = key.replace(\"&amp;lt;strong&amp;gt;&amp;lt;/strong&amp;gt;\", \"\")\n",
    "        key = key.replace(\"b/b\", \"\")\n",
    "        key = key.replace(\"/b\", \"\")\n",
    "        key = key.replace(\" \\\\r\\\\n\\\\r\\\\nb/b \", \"\")\n",
    "        key = key.replace(\"/b\", \"\")\n",
    "        key = key.replace(\"\\\\r\\\\nb/b\", \"\")\n",
    "        key = key.replace(\"\\\\r\\\\n\", \"\")\n",
    "        key = key.replace(\"#\", \"\")\n",
    "        key = key.replace(\"\\r\\\\n\\\\r\\\\n\", \"\")\n",
    "        key = key.replace(\"Russian\\\\r\\\\nEnglish\\\\r\\\\nSpanish - Spain\\\\r\\\\nFrench\\\\r\\\\nJapanese\\\\r\\\\nCzech\", \"\")\n",
    "        key = key.replace(\"\\r\\\\n\", \"\")\n",
    "        key = key.replace(\" &amp;lt;br /&amp;gt;&amp;lt;br /&amp;gt; \", \"\")\n",
    "        key = key.replace(\"RussianEnglishSpanish - SpainFrenchJapaneseCzech\", \"\")\n",
    "        language_count[key] = language_count.get(key, 0) + 1"
   ]
  },
  {
   "cell_type": "code",
   "execution_count": null,
   "id": "776aa019",
   "metadata": {
    "papermill": {
     "duration": 0.088345,
     "end_time": "2023-01-18T08:06:56.229091",
     "exception": false,
     "start_time": "2023-01-18T08:06:56.140746",
     "status": "completed"
    },
    "tags": []
   },
   "outputs": [],
   "source": [
    "language_count"
   ]
  },
  {
   "cell_type": "code",
   "execution_count": null,
   "id": "c058eed8",
   "metadata": {
    "papermill": {
     "duration": 0.086259,
     "end_time": "2023-01-18T08:06:56.390511",
     "exception": false,
     "start_time": "2023-01-18T08:06:56.304252",
     "status": "completed"
    },
    "tags": []
   },
   "outputs": [],
   "source": [
    "language_count = pd.DataFrame.from_dict(language_count, orient='index').reset_index()"
   ]
  },
  {
   "cell_type": "code",
   "execution_count": null,
   "id": "6ca0acb2",
   "metadata": {
    "papermill": {
     "duration": 0.085462,
     "end_time": "2023-01-18T08:06:56.550873",
     "exception": false,
     "start_time": "2023-01-18T08:06:56.465411",
     "status": "completed"
    },
    "tags": []
   },
   "outputs": [],
   "source": [
    "language_count.columns = ['language', 'Frequency']\n",
    "language_count = language_count.sort_values('Frequency', ascending = False).head(10)"
   ]
  },
  {
   "cell_type": "code",
   "execution_count": null,
   "id": "536114f1",
   "metadata": {
    "papermill": {
     "duration": 0.088382,
     "end_time": "2023-01-18T08:06:56.714397",
     "exception": false,
     "start_time": "2023-01-18T08:06:56.626015",
     "status": "completed"
    },
    "tags": []
   },
   "outputs": [],
   "source": [
    "language_count"
   ]
  },
  {
   "cell_type": "code",
   "execution_count": null,
   "id": "42714bc5",
   "metadata": {
    "papermill": {
     "duration": 0.133296,
     "end_time": "2023-01-18T08:06:56.923108",
     "exception": false,
     "start_time": "2023-01-18T08:06:56.789812",
     "status": "completed"
    },
    "tags": []
   },
   "outputs": [],
   "source": [
    "language_count_graph = px.bar(language_count, y='Frequency', x='language', title='Top games languages')\n",
    "language_count_graph.show()"
   ]
  },
  {
   "cell_type": "markdown",
   "id": "c6b149c6",
   "metadata": {
    "papermill": {
     "duration": 0.076763,
     "end_time": "2023-01-18T08:06:57.076556",
     "exception": false,
     "start_time": "2023-01-18T08:06:56.999793",
     "status": "completed"
    },
    "tags": []
   },
   "source": [
    "### Average downloads for games with support vs. games without support"
   ]
  },
  {
   "cell_type": "code",
   "execution_count": null,
   "id": "d806bd53",
   "metadata": {
    "papermill": {
     "duration": 0.099312,
     "end_time": "2023-01-18T08:06:57.252536",
     "exception": false,
     "start_time": "2023-01-18T08:06:57.153224",
     "status": "completed"
    },
    "tags": []
   },
   "outputs": [],
   "source": [
    "df[\"Support email\"].unique()"
   ]
  },
  {
   "cell_type": "code",
   "execution_count": null,
   "id": "e27e71f1",
   "metadata": {
    "papermill": {
     "duration": 5.309043,
     "end_time": "2023-01-18T08:07:02.636742",
     "exception": false,
     "start_time": "2023-01-18T08:06:57.327699",
     "status": "completed"
    },
    "tags": []
   },
   "outputs": [],
   "source": [
    "for index, row in df.iterrows():\n",
    "    if  df.at[index, 'Support email'] == \"no Support email available\":\n",
    "        df.at[index, 'Game have support'] = False\n",
    "    else:\n",
    "        df.at[index, 'Game have support'] = True"
   ]
  },
  {
   "cell_type": "code",
   "execution_count": null,
   "id": "a250df9e",
   "metadata": {
    "papermill": {
     "duration": 0.095882,
     "end_time": "2023-01-18T08:07:02.807592",
     "exception": false,
     "start_time": "2023-01-18T08:07:02.711710",
     "status": "completed"
    },
    "tags": []
   },
   "outputs": [],
   "source": [
    "downloads_for_supported_games = df.groupby(\"Game have support\").agg({\n",
    "    \"owners clean\":\"mean\"\n",
    "}).reset_index()\n",
    "downloads_for_supported_games"
   ]
  },
  {
   "cell_type": "code",
   "execution_count": null,
   "id": "cae9b2b4",
   "metadata": {
    "papermill": {
     "duration": 0.143522,
     "end_time": "2023-01-18T08:07:03.030649",
     "exception": false,
     "start_time": "2023-01-18T08:07:02.887127",
     "status": "completed"
    },
    "tags": []
   },
   "outputs": [],
   "source": [
    "downloads_for_supported_games_graph = px.bar(downloads_for_supported_games, y='owners clean', x='Game have support', title='Average downloads for games with support vs. games without support')\n",
    "downloads_for_supported_games_graph.show()"
   ]
  },
  {
   "cell_type": "code",
   "execution_count": null,
   "id": "c92ced18",
   "metadata": {
    "papermill": {
     "duration": 0.087796,
     "end_time": "2023-01-18T08:07:03.194113",
     "exception": false,
     "start_time": "2023-01-18T08:07:03.106317",
     "status": "completed"
    },
    "tags": []
   },
   "outputs": [],
   "source": [
    "df.columns"
   ]
  },
  {
   "cell_type": "markdown",
   "id": "9bdf9d43",
   "metadata": {
    "papermill": {
     "duration": 0.081648,
     "end_time": "2023-01-18T08:07:03.356968",
     "exception": false,
     "start_time": "2023-01-18T08:07:03.275320",
     "status": "completed"
    },
    "tags": []
   },
   "source": [
    "### Most popular operating systems for games"
   ]
  },
  {
   "cell_type": "code",
   "execution_count": null,
   "id": "f804b321",
   "metadata": {
    "papermill": {
     "duration": 0.087004,
     "end_time": "2023-01-18T08:07:03.523788",
     "exception": false,
     "start_time": "2023-01-18T08:07:03.436784",
     "status": "completed"
    },
    "tags": []
   },
   "outputs": [],
   "source": [
    "df[\"Windows\"].sum()"
   ]
  },
  {
   "cell_type": "code",
   "execution_count": null,
   "id": "56aa2367",
   "metadata": {
    "papermill": {
     "duration": 0.089294,
     "end_time": "2023-01-18T08:07:03.692467",
     "exception": false,
     "start_time": "2023-01-18T08:07:03.603173",
     "status": "completed"
    },
    "tags": []
   },
   "outputs": [],
   "source": [
    "df[\"Mac\"].sum()"
   ]
  },
  {
   "cell_type": "code",
   "execution_count": null,
   "id": "90ebc90c",
   "metadata": {
    "papermill": {
     "duration": 0.088085,
     "end_time": "2023-01-18T08:07:03.860242",
     "exception": false,
     "start_time": "2023-01-18T08:07:03.772157",
     "status": "completed"
    },
    "tags": []
   },
   "outputs": [],
   "source": [
    "df[\"Linux\"].sum()"
   ]
  },
  {
   "cell_type": "code",
   "execution_count": null,
   "id": "8204bdfd",
   "metadata": {
    "papermill": {
     "duration": 0.095229,
     "end_time": "2023-01-18T08:07:04.033545",
     "exception": false,
     "start_time": "2023-01-18T08:07:03.938316",
     "status": "completed"
    },
    "tags": []
   },
   "outputs": [],
   "source": [
    "df[\"OS\"].unique()"
   ]
  },
  {
   "cell_type": "code",
   "execution_count": null,
   "id": "7245d885",
   "metadata": {
    "papermill": {
     "duration": 0.101418,
     "end_time": "2023-01-18T08:07:04.212788",
     "exception": false,
     "start_time": "2023-01-18T08:07:04.111370",
     "status": "completed"
    },
    "tags": []
   },
   "outputs": [],
   "source": [
    "# Games that are compatible with multiple operating systems\n",
    "average_downloads_for_different_os = df.groupby(\"OS\").agg({\"owners clean\":\"mean\"}).reset_index()\n",
    "average_downloads_for_different_os"
   ]
  },
  {
   "cell_type": "code",
   "execution_count": null,
   "id": "5dfc7956",
   "metadata": {
    "papermill": {
     "duration": 0.143262,
     "end_time": "2023-01-18T08:07:04.435305",
     "exception": false,
     "start_time": "2023-01-18T08:07:04.292043",
     "status": "completed"
    },
    "tags": []
   },
   "outputs": [],
   "source": [
    "average_downloads_for_different_os_graph = px.bar(average_downloads_for_different_os, y='owners clean', x='OS', title='Average downloads for games that work on deferent operation system')\n",
    "average_downloads_for_different_os_graph.show()"
   ]
  },
  {
   "cell_type": "markdown",
   "id": "a38df7bc",
   "metadata": {
    "papermill": {
     "duration": 0.076602,
     "end_time": "2023-01-18T08:07:04.746734",
     "exception": false,
     "start_time": "2023-01-18T08:07:04.670132",
     "status": "completed"
    },
    "tags": []
   },
   "source": [
    "### Top games that have positive ratings and negative ratings "
   ]
  },
  {
   "cell_type": "code",
   "execution_count": null,
   "id": "56d93124",
   "metadata": {
    "papermill": {
     "duration": 0.087887,
     "end_time": "2023-01-18T08:07:04.910803",
     "exception": false,
     "start_time": "2023-01-18T08:07:04.822916",
     "status": "completed"
    },
    "tags": []
   },
   "outputs": [],
   "source": [
    "df[\"Positive\"].max()"
   ]
  },
  {
   "cell_type": "code",
   "execution_count": null,
   "id": "e3deaa2d",
   "metadata": {
    "papermill": {
     "duration": 0.226214,
     "end_time": "2023-01-18T08:07:05.213922",
     "exception": false,
     "start_time": "2023-01-18T08:07:04.987708",
     "status": "completed"
    },
    "tags": []
   },
   "outputs": [],
   "source": [
    "top_positive_rated_games = df.groupby(\"Name\").agg({\"Positive\":\"sum\"}).reset_index().sort_values(\"Positive\",ascending = False).head(10)\n",
    "top_positive_rated_games"
   ]
  },
  {
   "cell_type": "code",
   "execution_count": null,
   "id": "88521dff",
   "metadata": {
    "papermill": {
     "duration": 0.143478,
     "end_time": "2023-01-18T08:07:05.437214",
     "exception": false,
     "start_time": "2023-01-18T08:07:05.293736",
     "status": "completed"
    },
    "tags": []
   },
   "outputs": [],
   "source": [
    "top_positive_rated_games_graph = px.bar(top_positive_rated_games, y='Positive', x='Name', title='Top Positive Rated Games')\n",
    "top_positive_rated_games_graph.show()"
   ]
  },
  {
   "cell_type": "code",
   "execution_count": null,
   "id": "13ebc86b",
   "metadata": {
    "papermill": {
     "duration": 0.221996,
     "end_time": "2023-01-18T08:07:05.741368",
     "exception": false,
     "start_time": "2023-01-18T08:07:05.519372",
     "status": "completed"
    },
    "tags": []
   },
   "outputs": [],
   "source": [
    "top_negative_rated_games = df.groupby(\"Name\").agg({\"Negative\":\"sum\"}).reset_index().sort_values(\"Negative\",ascending = False).head(10)\n",
    "top_negative_rated_games"
   ]
  },
  {
   "cell_type": "code",
   "execution_count": null,
   "id": "db81a4c1",
   "metadata": {
    "papermill": {
     "duration": 0.150369,
     "end_time": "2023-01-18T08:07:05.976093",
     "exception": false,
     "start_time": "2023-01-18T08:07:05.825724",
     "status": "completed"
    },
    "tags": []
   },
   "outputs": [],
   "source": [
    "top_negative_rated_games_graph = px.bar(top_negative_rated_games, y='Negative', x='Name', title='Top Negative Rated Games')\n",
    "top_negative_rated_games_graph.show()"
   ]
  },
  {
   "cell_type": "markdown",
   "id": "14dd5b81",
   "metadata": {
    "papermill": {
     "duration": 0.078086,
     "end_time": "2023-01-18T08:07:06.137106",
     "exception": false,
     "start_time": "2023-01-18T08:07:06.059020",
     "status": "completed"
    },
    "tags": []
   },
   "source": [
    "### Most Downloaded Games with Their Positive and Negative Ratings"
   ]
  },
  {
   "cell_type": "code",
   "execution_count": null,
   "id": "ebcf6d89",
   "metadata": {
    "papermill": {
     "duration": 0.238939,
     "end_time": "2023-01-18T08:07:06.453875",
     "exception": false,
     "start_time": "2023-01-18T08:07:06.214936",
     "status": "completed"
    },
    "tags": []
   },
   "outputs": [],
   "source": [
    "top_downloaded_games_with_ratings = df.groupby(\"Name\").agg({\n",
    "    \"owners clean\":\"sum\",\n",
    "    \"Negative\":\"sum\",\n",
    "    \"Positive\":\"sum\"\n",
    "}).reset_index().sort_values(\"owners clean\",ascending = False).head(10)\n",
    "top_downloaded_games_with_ratings"
   ]
  },
  {
   "cell_type": "code",
   "execution_count": null,
   "id": "a5f72bca",
   "metadata": {
    "papermill": {
     "duration": 0.096775,
     "end_time": "2023-01-18T08:07:06.629190",
     "exception": false,
     "start_time": "2023-01-18T08:07:06.532415",
     "status": "completed"
    },
    "tags": []
   },
   "outputs": [],
   "source": [
    "top_downloaded_games_with_ratings_graph = go.Figure(data=[\n",
    "    go.Bar(name='Negative', x=top_downloaded_games_with_ratings[\"Name\"], y=top_downloaded_games_with_ratings[\"Negative\"]),\n",
    "    go.Bar(name='Positive', x=top_downloaded_games_with_ratings[\"Name\"], y=top_downloaded_games_with_ratings[\"Positive\"])\n",
    "])\n",
    "top_downloaded_games_with_ratings_graph.update_layout(\n",
    "    barmode='group',\n",
    "    title_text='Top Downloaded Games with Number of Positive and Negative Ratings'\n",
    ")\n",
    "top_downloaded_games_with_ratings_graph.show()"
   ]
  },
  {
   "cell_type": "markdown",
   "id": "a666d0e5",
   "metadata": {
    "papermill": {
     "duration": 0.079769,
     "end_time": "2023-01-18T08:07:06.787892",
     "exception": false,
     "start_time": "2023-01-18T08:07:06.708123",
     "status": "completed"
    },
    "tags": []
   },
   "source": [
    "### Relationship between the number of downloads and the ratings of games"
   ]
  },
  {
   "cell_type": "code",
   "execution_count": null,
   "id": "917fee76",
   "metadata": {
    "papermill": {
     "duration": 0.137884,
     "end_time": "2023-01-18T08:07:07.005313",
     "exception": false,
     "start_time": "2023-01-18T08:07:06.867429",
     "status": "completed"
    },
    "tags": []
   },
   "outputs": [],
   "source": [
    "df_sorted_downloads = df.sort_values(\"owners clean\",ascending=False)"
   ]
  },
  {
   "cell_type": "code",
   "execution_count": null,
   "id": "a37ff3d0",
   "metadata": {
    "papermill": {
     "duration": 0.192326,
     "end_time": "2023-01-18T08:07:07.277880",
     "exception": false,
     "start_time": "2023-01-18T08:07:07.085554",
     "status": "completed"
    },
    "tags": []
   },
   "outputs": [],
   "source": [
    "downloads_vs_positive_ratings = px.line(df_sorted_downloads, x=\"owners clean\", y=\"Positive\", title='Relationship between downloads and positive ratings')\n",
    "downloads_vs_positive_ratings.show()"
   ]
  },
  {
   "cell_type": "code",
   "execution_count": null,
   "id": "00a6fec6",
   "metadata": {
    "papermill": {
     "duration": 0.183711,
     "end_time": "2023-01-18T08:07:07.553596",
     "exception": false,
     "start_time": "2023-01-18T08:07:07.369885",
     "status": "completed"
    },
    "tags": []
   },
   "outputs": [],
   "source": [
    "downloads_vs_negative_ratings = px.line(df_sorted_downloads, x=\"owners clean\", y=\"Negative\", title='Relationship between downloads and negative ratings')\n",
    "downloads_vs_negative_ratings.show()"
   ]
  },
  {
   "cell_type": "markdown",
   "id": "9954679f",
   "metadata": {
    "papermill": {
     "duration": 0.10363,
     "end_time": "2023-01-18T08:07:07.762221",
     "exception": false,
     "start_time": "2023-01-18T08:07:07.658591",
     "status": "completed"
    },
    "tags": []
   },
   "source": [
    "## Relationship Between Price and Ratings"
   ]
  },
  {
   "cell_type": "code",
   "execution_count": null,
   "id": "5062638b",
   "metadata": {
    "papermill": {
     "duration": 0.173594,
     "end_time": "2023-01-18T08:07:08.053072",
     "exception": false,
     "start_time": "2023-01-18T08:07:07.879478",
     "status": "completed"
    },
    "tags": []
   },
   "outputs": [],
   "source": [
    "df_sorted_price = df.sort_values(\"Price\",ascending=False)"
   ]
  },
  {
   "cell_type": "code",
   "execution_count": null,
   "id": "f3cd56c9-4fc0-43a0-801a-15cd05aaa44d",
   "metadata": {},
   "outputs": [],
   "source": [
    "price_vs_positive_ratings_box = px.box(df_sorted_price, x=\"Price\", y=\"Positive\", \n",
    "                                       title='Distribution of Positive Ratings Across Price Ranges',\n",
    "                                       points=\"all\",  \n",
    "                                       hover_name=\"Name\")\n",
    "price_vs_positive_ratings_box.show()"
   ]
  },
  {
   "cell_type": "code",
   "execution_count": null,
   "id": "f0f5f550-8670-43e9-ab21-cbb875021cc0",
   "metadata": {},
   "outputs": [],
   "source": [
    "price_vs_negative_ratings_box = px.box(df_sorted_price, x=\"Price\", y=\"Negative\", \n",
    "                                       title='Distribution of Negative Ratings Across Price Ranges',\n",
    "                                       points=\"all\",  \n",
    "                                       hover_name=\"Name\")\n",
    "price_vs_negative_ratings_box.show()"
   ]
  },
  {
   "cell_type": "code",
   "execution_count": null,
   "id": "33237c3a",
   "metadata": {
    "papermill": {
     "duration": 0.132561,
     "end_time": "2023-01-18T08:07:08.917123",
     "exception": false,
     "start_time": "2023-01-18T08:07:08.784562",
     "status": "completed"
    },
    "tags": []
   },
   "outputs": [],
   "source": [
    "df.columns"
   ]
  },
  {
   "cell_type": "markdown",
   "id": "94bb2054",
   "metadata": {
    "papermill": {
     "duration": 0.122707,
     "end_time": "2023-01-18T08:07:09.165914",
     "exception": false,
     "start_time": "2023-01-18T08:07:09.043207",
     "status": "completed"
    },
    "tags": []
   },
   "source": [
    "### Top Developers "
   ]
  },
  {
   "cell_type": "code",
   "execution_count": null,
   "id": "1fc4fb2b",
   "metadata": {
    "papermill": {
     "duration": 0.208617,
     "end_time": "2023-01-18T08:07:09.498942",
     "exception": false,
     "start_time": "2023-01-18T08:07:09.290325",
     "status": "completed"
    },
    "tags": []
   },
   "outputs": [],
   "source": [
    "developers_most_downloads = df.groupby(\"Developers\").agg({\"owners clean\":\"sum\"}).reset_index().sort_values(\"owners clean\",ascending = False).head(10)\n",
    "developers_most_downloads"
   ]
  },
  {
   "cell_type": "code",
   "execution_count": null,
   "id": "b08ec965",
   "metadata": {
    "papermill": {
     "duration": 0.181197,
     "end_time": "2023-01-18T08:07:09.803738",
     "exception": false,
     "start_time": "2023-01-18T08:07:09.622541",
     "status": "completed"
    },
    "tags": []
   },
   "outputs": [],
   "source": [
    "developers_most_downloads_graph = px.bar(developers_most_downloads, y='owners clean', x='Developers', title='Developers with Most Downloads',\n",
    "  labels={ \"owners clean\": \"Total downloads\",})\n",
    "developers_most_downloads_graph.show()"
   ]
  },
  {
   "cell_type": "code",
   "execution_count": null,
   "id": "1cea81cc",
   "metadata": {
    "papermill": {
     "duration": 0.22581,
     "end_time": "2023-01-18T08:07:10.155488",
     "exception": false,
     "start_time": "2023-01-18T08:07:09.929678",
     "status": "completed"
    },
    "tags": []
   },
   "outputs": [],
   "source": [
    "# Developers with the Highest Downloads, Including Positive and Negative Ratings\n",
    "top_developers_downloads_with_positive_and_negative= df.groupby(\"Developers\").agg({\n",
    "    \"owners clean\":\"sum\",\n",
    "    \"Positive\":\"sum\",\n",
    "    \"Negative\":\"sum\"\n",
    "}).reset_index().sort_values(\"owners clean\",ascending = False).head(10)\n",
    "top_developers_downloads_with_positive_and_negative"
   ]
  },
  {
   "cell_type": "code",
   "execution_count": null,
   "id": "84aeee9a",
   "metadata": {
    "papermill": {
     "duration": 0.139216,
     "end_time": "2023-01-18T08:07:10.427717",
     "exception": false,
     "start_time": "2023-01-18T08:07:10.288501",
     "status": "completed"
    },
    "tags": []
   },
   "outputs": [],
   "source": [
    "top_downloaded_games_with_rating_graph = go.Figure(data=[\n",
    "    go.Bar(name='Negative', x=top_developers_downloads_with_positive_and_negative[\"Developers\"],\n",
    "           y=top_developers_downloads_with_positive_and_negative[\"Negative\"]),\n",
    "    go.Bar(name='Positive', x=top_developers_downloads_with_positive_and_negative[\"Developers\"], \n",
    "           y=top_developers_downloads_with_positive_and_negative[\"Positive\"])\n",
    "])\n",
    "# Change the bar mode\n",
    "top_downloaded_games_with_rating_graph.update_layout(barmode='group',\n",
    "    title_text='Developers with the Highest Downloads, Including Positive and Negative Ratings',\n",
    "    xaxis_title=\"Top developers\",\n",
    "    yaxis_title=\"Ratings\")\n",
    "top_downloaded_games_with_rating_graph.show()"
   ]
  },
  {
   "cell_type": "code",
   "execution_count": null,
   "id": "cdd75a8b",
   "metadata": {
    "papermill": {
     "duration": 0.209603,
     "end_time": "2023-01-18T08:07:10.757353",
     "exception": false,
     "start_time": "2023-01-18T08:07:10.547750",
     "status": "completed"
    },
    "tags": []
   },
   "outputs": [],
   "source": [
    "# Most positive-rated developers\n",
    "top_developers_total_positive_ratings = df.groupby(\"Developers\").agg({\"Positive\":\"sum\"}).reset_index().sort_values(\"Positive\",ascending = False).head(10)\n",
    "top_developers_total_positive_ratings"
   ]
  },
  {
   "cell_type": "code",
   "execution_count": null,
   "id": "52c7dca4",
   "metadata": {
    "papermill": {
     "duration": 0.237808,
     "end_time": "2023-01-18T08:07:11.118469",
     "exception": false,
     "start_time": "2023-01-18T08:07:10.880661",
     "status": "completed"
    },
    "tags": []
   },
   "outputs": [],
   "source": [
    "top_developers_total_positive_ratings_graph = px.bar(top_developers_total_positive_ratings, y='Positive', x='Developers',\n",
    "                                                     title='Top positive-rated developers',labels={ \"Positive\": \"Total positive ratings\",})\n",
    "top_developers_total_positive_ratings_graph.show()"
   ]
  },
  {
   "cell_type": "code",
   "execution_count": null,
   "id": "8450c2e1",
   "metadata": {
    "papermill": {
     "duration": 0.216329,
     "end_time": "2023-01-18T08:07:11.477788",
     "exception": false,
     "start_time": "2023-01-18T08:07:11.261459",
     "status": "completed"
    },
    "tags": []
   },
   "outputs": [],
   "source": [
    "# Most negative-rated developers\n",
    "top_devs_neg_ratings = df.groupby(\"Developers\").agg({\"Negative\":\"sum\"}).reset_index().sort_values(\"Negative\",ascending = False).head(10)\n",
    "top_devs_neg_ratings"
   ]
  },
  {
   "cell_type": "code",
   "execution_count": null,
   "id": "5cca283d",
   "metadata": {
    "papermill": {
     "duration": 0.184644,
     "end_time": "2023-01-18T08:07:11.788043",
     "exception": false,
     "start_time": "2023-01-18T08:07:11.603399",
     "status": "completed"
    },
    "tags": []
   },
   "outputs": [],
   "source": [
    "top_devs_neg_ratings_graph = px.bar(top_devs_neg_ratings, y='Negative', x='Developers', title= 'Top negative-rated developers',\n",
    "  labels={ \"Negative\": \"Total Negative ratings\",})\n",
    "top_devs_neg_ratings_graph.show()"
   ]
  },
  {
   "cell_type": "markdown",
   "id": "04b11602",
   "metadata": {
    "papermill": {
     "duration": 0.125745,
     "end_time": "2023-01-18T08:07:12.040311",
     "exception": false,
     "start_time": "2023-01-18T08:07:11.914566",
     "status": "completed"
    },
    "tags": []
   },
   "source": [
    "### Top Publishers"
   ]
  },
  {
   "cell_type": "code",
   "execution_count": null,
   "id": "97707000",
   "metadata": {
    "papermill": {
     "duration": 0.204271,
     "end_time": "2023-01-18T08:07:12.373833",
     "exception": false,
     "start_time": "2023-01-18T08:07:12.169562",
     "status": "completed"
    },
    "tags": []
   },
   "outputs": [],
   "source": [
    "top_publishers_total_downloads = df.groupby(\"Publishers\").agg({\"owners clean\":\"sum\"}).reset_index().sort_values(\"owners clean\",\n",
    "                                                                                                                ascending = False).head(10)\n",
    "top_publishers_total_downloads"
   ]
  },
  {
   "cell_type": "code",
   "execution_count": null,
   "id": "1c583bf0",
   "metadata": {
    "papermill": {
     "duration": 0.186358,
     "end_time": "2023-01-18T08:07:12.685978",
     "exception": false,
     "start_time": "2023-01-18T08:07:12.499620",
     "status": "completed"
    },
    "tags": []
   },
   "outputs": [],
   "source": [
    "top_publishers_total_downloads_graph = px.bar(top_publishers_total_downloads, y='owners clean', x='Publishers',\n",
    "                                              title='Puplishers that have Top downloads',labels={ \"owners clean\": \"Total downloads\",})\n",
    "top_publishers_total_downloads_graph.show()"
   ]
  },
  {
   "cell_type": "code",
   "execution_count": null,
   "id": "82d4c38d",
   "metadata": {
    "papermill": {
     "duration": 0.2305,
     "end_time": "2023-01-18T08:07:13.044970",
     "exception": false,
     "start_time": "2023-01-18T08:07:12.814470",
     "status": "completed"
    },
    "tags": []
   },
   "outputs": [],
   "source": [
    "# Top Publishers by Downloads with Positive and Negative Ratings\n",
    "top_Publishers_downloads_with_positive_and_negative= df.groupby(\"Publishers\").agg({\n",
    "    \"owners clean\":\"sum\",\n",
    "    \"Positive\":\"sum\",\n",
    "    \"Negative\":\"sum\"\n",
    "}).reset_index().sort_values(\"owners clean\",ascending = False).head(10)\n",
    "top_Publishers_downloads_with_positive_and_negative"
   ]
  },
  {
   "cell_type": "code",
   "execution_count": null,
   "id": "c1a8aff4",
   "metadata": {
    "papermill": {
     "duration": 0.14454,
     "end_time": "2023-01-18T08:07:13.322662",
     "exception": false,
     "start_time": "2023-01-18T08:07:13.178122",
     "status": "completed"
    },
    "tags": []
   },
   "outputs": [],
   "source": [
    "top_downloaded_games_with_rating_graph = go.Figure(data=[\n",
    "    go.Bar(name='Negative', x=top_Publishers_downloads_with_positive_and_negative[\"Publishers\"],\n",
    "           y=top_Publishers_downloads_with_positive_and_negative[\"Negative\"]),\n",
    "    go.Bar(name='Positive', x=top_Publishers_downloads_with_positive_and_negative[\"Publishers\"],\n",
    "           y=top_Publishers_downloads_with_positive_and_negative[\"Positive\"])\n",
    "])\n",
    "# Change the bar mode\n",
    "top_downloaded_games_with_rating_graph.update_layout(barmode='group',\n",
    "    title_text=' Publishers with top downloads and their positive and negative ratings',\n",
    "    xaxis_title=\"Top Publishers\",\n",
    "    yaxis_title=\"Ratings\")\n",
    "top_downloaded_games_with_rating_graph.show()"
   ]
  },
  {
   "cell_type": "markdown",
   "id": "bf16a82a",
   "metadata": {
    "papermill": {
     "duration": 0.123078,
     "end_time": "2023-01-18T08:07:13.572729",
     "exception": false,
     "start_time": "2023-01-18T08:07:13.449651",
     "status": "completed"
    },
    "tags": []
   },
   "source": [
    "### Games Categories"
   ]
  },
  {
   "cell_type": "code",
   "execution_count": null,
   "id": "7e996ff4",
   "metadata": {
    "papermill": {
     "duration": 0.150742,
     "end_time": "2023-01-18T08:07:13.849721",
     "exception": false,
     "start_time": "2023-01-18T08:07:13.698979",
     "status": "completed"
    },
    "tags": []
   },
   "outputs": [],
   "source": [
    "df[\"Categories\"].unique()"
   ]
  },
  {
   "cell_type": "code",
   "execution_count": null,
   "id": "b76374f2",
   "metadata": {
    "papermill": {
     "duration": 0.138219,
     "end_time": "2023-01-18T08:07:14.117410",
     "exception": false,
     "start_time": "2023-01-18T08:07:13.979191",
     "status": "completed"
    },
    "tags": []
   },
   "outputs": [],
   "source": [
    "df[\"Categories\"][0]"
   ]
  },
  {
   "cell_type": "code",
   "execution_count": null,
   "id": "35109c6e",
   "metadata": {
    "papermill": {
     "duration": 0.132631,
     "end_time": "2023-01-18T08:07:14.378330",
     "exception": false,
     "start_time": "2023-01-18T08:07:14.245699",
     "status": "completed"
    },
    "tags": []
   },
   "outputs": [],
   "source": [
    "def categories_clean(x):\n",
    "    x = x.split(\",\")\n",
    "    return x"
   ]
  },
  {
   "cell_type": "code",
   "execution_count": null,
   "id": "e8a7c7bd",
   "metadata": {
    "papermill": {
     "duration": 0.139401,
     "end_time": "2023-01-18T08:07:14.644822",
     "exception": false,
     "start_time": "2023-01-18T08:07:14.505421",
     "status": "completed"
    },
    "tags": []
   },
   "outputs": [],
   "source": [
    "categories_clean('Single-player,Multi-player,Steam Achievements,Partial Controller Support')"
   ]
  },
  {
   "cell_type": "code",
   "execution_count": null,
   "id": "f5dd6b3b",
   "metadata": {
    "papermill": {
     "duration": 0.248712,
     "end_time": "2023-01-18T08:07:15.022826",
     "exception": false,
     "start_time": "2023-01-18T08:07:14.774114",
     "status": "completed"
    },
    "tags": []
   },
   "outputs": [],
   "source": [
    "categories_count = {}\n",
    "for categories in df['Categories']:\n",
    "    words = categories_clean(categories)\n",
    "    for word in words:\n",
    "        categories_count[word] = categories_count.get(word, 0) + 1"
   ]
  },
  {
   "cell_type": "code",
   "execution_count": null,
   "id": "26ca8944",
   "metadata": {
    "papermill": {
     "duration": 0.139046,
     "end_time": "2023-01-18T08:07:15.290774",
     "exception": false,
     "start_time": "2023-01-18T08:07:15.151728",
     "status": "completed"
    },
    "tags": []
   },
   "outputs": [],
   "source": [
    "categories_count"
   ]
  },
  {
   "cell_type": "code",
   "execution_count": null,
   "id": "98a31a55",
   "metadata": {
    "papermill": {
     "duration": 0.134421,
     "end_time": "2023-01-18T08:07:15.558910",
     "exception": false,
     "start_time": "2023-01-18T08:07:15.424489",
     "status": "completed"
    },
    "tags": []
   },
   "outputs": [],
   "source": [
    "categories_count = pd.DataFrame.from_dict(categories_count, orient='index').reset_index()"
   ]
  },
  {
   "cell_type": "code",
   "execution_count": null,
   "id": "e19dea08",
   "metadata": {
    "papermill": {
     "duration": 0.154876,
     "end_time": "2023-01-18T08:07:15.847771",
     "exception": false,
     "start_time": "2023-01-18T08:07:15.692895",
     "status": "completed"
    },
    "tags": []
   },
   "outputs": [],
   "source": [
    "categories_count.columns = ['category', 'Frequency']\n",
    "categories_count = categories_count.sort_values('Frequency', ascending = False)\n",
    "categories_count"
   ]
  },
  {
   "cell_type": "code",
   "execution_count": null,
   "id": "26abc8d7",
   "metadata": {
    "papermill": {
     "duration": 0.140098,
     "end_time": "2023-01-18T08:07:16.117931",
     "exception": false,
     "start_time": "2023-01-18T08:07:15.977833",
     "status": "completed"
    },
    "tags": []
   },
   "outputs": [],
   "source": [
    "# Most common game categories in the store\n",
    "categories_count.head(10)"
   ]
  },
  {
   "cell_type": "code",
   "execution_count": null,
   "id": "c7cd95f5",
   "metadata": {
    "papermill": {
     "duration": 0.157423,
     "end_time": "2023-01-18T08:07:16.403258",
     "exception": false,
     "start_time": "2023-01-18T08:07:16.245835",
     "status": "completed"
    },
    "tags": []
   },
   "outputs": [],
   "source": [
    "for index, row in categories_count.iterrows():\n",
    "    if categories_count.at[index , \"Frequency\"] < 5943 :\n",
    "        categories_count.at[index , \"category\"] = \"others\""
   ]
  },
  {
   "cell_type": "code",
   "execution_count": null,
   "id": "7e7423a2",
   "metadata": {
    "papermill": {
     "duration": 0.144812,
     "end_time": "2023-01-18T08:07:16.675885",
     "exception": false,
     "start_time": "2023-01-18T08:07:16.531073",
     "status": "completed"
    },
    "tags": []
   },
   "outputs": [],
   "source": [
    "categories_count"
   ]
  },
  {
   "cell_type": "code",
   "execution_count": null,
   "id": "726d5324",
   "metadata": {
    "papermill": {
     "duration": 0.142719,
     "end_time": "2023-01-18T08:07:16.946877",
     "exception": false,
     "start_time": "2023-01-18T08:07:16.804158",
     "status": "completed"
    },
    "tags": []
   },
   "outputs": [],
   "source": [
    "pie_chart_categories_count = categories_count.groupby(\"category\").agg({\"Frequency\":\"sum\"}).reset_index()\n",
    "pie_chart_categories_count"
   ]
  },
  {
   "cell_type": "code",
   "execution_count": null,
   "id": "aa9a3644",
   "metadata": {
    "papermill": {
     "duration": 0.18202,
     "end_time": "2023-01-18T08:07:17.257057",
     "exception": false,
     "start_time": "2023-01-18T08:07:17.075037",
     "status": "completed"
    },
    "tags": []
   },
   "outputs": [],
   "source": [
    "top_cattegories_graph = px.pie(pie_chart_categories_count, values='Frequency', names='category', title='Games Catogeries').update_layout( width=700,\n",
    "                                                                                                                                         height=550 )\n",
    "top_cattegories_graph.show()"
   ]
  },
  {
   "cell_type": "markdown",
   "id": "def6243f",
   "metadata": {
    "papermill": {
     "duration": 0.124395,
     "end_time": "2023-01-18T08:07:17.509268",
     "exception": false,
     "start_time": "2023-01-18T08:07:17.384873",
     "status": "completed"
    },
    "tags": []
   },
   "source": [
    "### Top 3 Categories by Average Downloads"
   ]
  },
  {
   "cell_type": "code",
   "execution_count": null,
   "id": "7e92b41e",
   "metadata": {
    "papermill": {
     "duration": 0.181112,
     "end_time": "2023-01-18T08:07:17.819276",
     "exception": false,
     "start_time": "2023-01-18T08:07:17.638164",
     "status": "completed"
    },
    "tags": []
   },
   "outputs": [],
   "source": [
    "df_categories = df[[\"Name\",\"owners clean\",\"Price\",\"Categories\"]].copy()"
   ]
  },
  {
   "cell_type": "code",
   "execution_count": null,
   "id": "eb22a672",
   "metadata": {
    "papermill": {
     "duration": 0.164963,
     "end_time": "2023-01-18T08:07:18.115960",
     "exception": false,
     "start_time": "2023-01-18T08:07:17.950997",
     "status": "completed"
    },
    "tags": []
   },
   "outputs": [],
   "source": [
    "df_categories"
   ]
  },
  {
   "cell_type": "code",
   "execution_count": null,
   "id": "df968605",
   "metadata": {
    "papermill": {
     "duration": 12.611845,
     "end_time": "2023-01-18T08:07:30.859138",
     "exception": false,
     "start_time": "2023-01-18T08:07:18.247293",
     "status": "completed"
    },
    "tags": []
   },
   "outputs": [],
   "source": [
    "#creating 3 columns for top 3 Categories\n",
    "for index, row in df_categories.iterrows():\n",
    "    if \"Single-player\" in row[\"Categories\"]:\n",
    "        df_categories.at[index , \"Single-player\"] = True\n",
    "for index, row in df_categories.iterrows():\n",
    "    if \"Steam Achievements\" in row[\"Categories\"]:\n",
    "        df_categories.at[index ,\"Steam Achievements\"] = True\n",
    "for index, row in df_categories.iterrows():\n",
    "    if \"Steam Cloud\" in row[\"Categories\"]:\n",
    "        df_categories.at[index ,\"Steam Cloud\"] = True\n",
    "        "
   ]
  },
  {
   "cell_type": "code",
   "execution_count": null,
   "id": "3d2422e4",
   "metadata": {
    "papermill": {
     "duration": 0.157353,
     "end_time": "2023-01-18T08:07:31.150114",
     "exception": false,
     "start_time": "2023-01-18T08:07:30.992761",
     "status": "completed"
    },
    "tags": []
   },
   "outputs": [],
   "source": [
    "df_categories"
   ]
  },
  {
   "cell_type": "code",
   "execution_count": null,
   "id": "038068b1",
   "metadata": {
    "papermill": {
     "duration": 0.147147,
     "end_time": "2023-01-18T08:07:31.428151",
     "exception": false,
     "start_time": "2023-01-18T08:07:31.281004",
     "status": "completed"
    },
    "tags": []
   },
   "outputs": [],
   "source": [
    "# Average downloads for Single-player category \n",
    "df_categories.groupby(\"Single-player\").agg({\n",
    "    \"owners clean\":\"mean\"\n",
    "})"
   ]
  },
  {
   "cell_type": "code",
   "execution_count": null,
   "id": "e4fd769e",
   "metadata": {
    "papermill": {
     "duration": 0.150194,
     "end_time": "2023-01-18T08:07:31.768334",
     "exception": false,
     "start_time": "2023-01-18T08:07:31.618140",
     "status": "completed"
    },
    "tags": []
   },
   "outputs": [],
   "source": [
    "# Average downloads for Steam Achievements category \n",
    "\n",
    "df_categories.groupby(\"Steam Achievements\").agg({\n",
    "    \"owners clean\":\"mean\"\n",
    "})"
   ]
  },
  {
   "cell_type": "code",
   "execution_count": null,
   "id": "5b53259c",
   "metadata": {
    "papermill": {
     "duration": 0.167312,
     "end_time": "2023-01-18T08:07:32.066211",
     "exception": false,
     "start_time": "2023-01-18T08:07:31.898899",
     "status": "completed"
    },
    "tags": []
   },
   "outputs": [],
   "source": [
    "# Average downloads for Steam Cloud category \n",
    "\n",
    "df_categories.groupby(\"Steam Cloud\").agg({\n",
    "    \"owners clean\":\"mean\"\n",
    "})"
   ]
  },
  {
   "cell_type": "code",
   "execution_count": null,
   "id": "40becbaa",
   "metadata": {
    "papermill": {
     "duration": 0.143573,
     "end_time": "2023-01-18T08:07:32.355579",
     "exception": false,
     "start_time": "2023-01-18T08:07:32.212006",
     "status": "completed"
    },
    "tags": []
   },
   "outputs": [],
   "source": [
    "df.columns"
   ]
  },
  {
   "cell_type": "markdown",
   "id": "f2c82400",
   "metadata": {
    "papermill": {
     "duration": 0.133885,
     "end_time": "2023-01-18T08:07:32.639165",
     "exception": false,
     "start_time": "2023-01-18T08:07:32.505280",
     "status": "completed"
    },
    "tags": []
   },
   "source": [
    "### Top Genres"
   ]
  },
  {
   "cell_type": "code",
   "execution_count": null,
   "id": "dc2688d5",
   "metadata": {
    "papermill": {
     "duration": 0.160412,
     "end_time": "2023-01-18T08:07:32.935377",
     "exception": false,
     "start_time": "2023-01-18T08:07:32.774965",
     "status": "completed"
    },
    "tags": []
   },
   "outputs": [],
   "source": [
    "df[\"Genres\"].unique()"
   ]
  },
  {
   "cell_type": "code",
   "execution_count": null,
   "id": "6052d46d",
   "metadata": {
    "papermill": {
     "duration": 0.162082,
     "end_time": "2023-01-18T08:07:33.240268",
     "exception": false,
     "start_time": "2023-01-18T08:07:33.078186",
     "status": "completed"
    },
    "tags": []
   },
   "outputs": [],
   "source": [
    "df[\"Genres\"]"
   ]
  },
  {
   "cell_type": "code",
   "execution_count": null,
   "id": "78108021",
   "metadata": {
    "papermill": {
     "duration": 0.146794,
     "end_time": "2023-01-18T08:07:33.530578",
     "exception": false,
     "start_time": "2023-01-18T08:07:33.383784",
     "status": "completed"
    },
    "tags": []
   },
   "outputs": [],
   "source": [
    "def genres_clean(x):\n",
    "    x = x.split(\",\")\n",
    "    return x"
   ]
  },
  {
   "cell_type": "code",
   "execution_count": null,
   "id": "5946131d",
   "metadata": {
    "papermill": {
     "duration": 0.142794,
     "end_time": "2023-01-18T08:07:33.806347",
     "exception": false,
     "start_time": "2023-01-18T08:07:33.663553",
     "status": "completed"
    },
    "tags": []
   },
   "outputs": [],
   "source": [
    "genres_clean('Casual,Indie,Sports')"
   ]
  },
  {
   "cell_type": "code",
   "execution_count": null,
   "id": "50604103",
   "metadata": {
    "papermill": {
     "duration": 0.255651,
     "end_time": "2023-01-18T08:07:34.194980",
     "exception": false,
     "start_time": "2023-01-18T08:07:33.939329",
     "status": "completed"
    },
    "tags": []
   },
   "outputs": [],
   "source": [
    "genres_count = {}\n",
    "for genres in df['Genres']:\n",
    "    words = genres_clean(genres)\n",
    "    for word in words:\n",
    "        genres_count[word] = genres_count.get(word, 0) + 1"
   ]
  },
  {
   "cell_type": "code",
   "execution_count": null,
   "id": "51ecdb1e",
   "metadata": {
    "papermill": {
     "duration": 0.142036,
     "end_time": "2023-01-18T08:07:34.468845",
     "exception": false,
     "start_time": "2023-01-18T08:07:34.326809",
     "status": "completed"
    },
    "tags": []
   },
   "outputs": [],
   "source": [
    "genres_count"
   ]
  },
  {
   "cell_type": "code",
   "execution_count": null,
   "id": "af04a700",
   "metadata": {
    "papermill": {
     "duration": 0.149135,
     "end_time": "2023-01-18T08:07:34.750613",
     "exception": false,
     "start_time": "2023-01-18T08:07:34.601478",
     "status": "completed"
    },
    "tags": []
   },
   "outputs": [],
   "source": [
    "genres_count = pd.DataFrame.from_dict(genres_count, orient='index').reset_index()\n",
    "genres_count.columns = ['Genres', 'Frequency']\n",
    "genres_count = genres_count.sort_values('Frequency', ascending = False)\n",
    "genres_count"
   ]
  },
  {
   "cell_type": "code",
   "execution_count": null,
   "id": "2410d8b1",
   "metadata": {
    "papermill": {
     "duration": 0.145052,
     "end_time": "2023-01-18T08:07:35.029941",
     "exception": false,
     "start_time": "2023-01-18T08:07:34.884889",
     "status": "completed"
    },
    "tags": []
   },
   "outputs": [],
   "source": [
    "# Top 10 Game Genres in the Store\n",
    "genres_count.head(10)"
   ]
  },
  {
   "cell_type": "code",
   "execution_count": null,
   "id": "cd342c3b",
   "metadata": {
    "papermill": {
     "duration": 0.153091,
     "end_time": "2023-01-18T08:07:35.323663",
     "exception": false,
     "start_time": "2023-01-18T08:07:35.170572",
     "status": "completed"
    },
    "tags": []
   },
   "outputs": [],
   "source": [
    "for index, row in genres_count.iterrows():\n",
    "    if genres_count.at[index , \"Frequency\"] < 2964 :\n",
    "        genres_count.at[index , \"Genres\"] = \"others\""
   ]
  },
  {
   "cell_type": "code",
   "execution_count": null,
   "id": "71bfe53c",
   "metadata": {
    "papermill": {
     "duration": 0.151834,
     "end_time": "2023-01-18T08:07:35.612120",
     "exception": false,
     "start_time": "2023-01-18T08:07:35.460286",
     "status": "completed"
    },
    "tags": []
   },
   "outputs": [],
   "source": [
    "genres_count"
   ]
  },
  {
   "cell_type": "code",
   "execution_count": null,
   "id": "77b12329",
   "metadata": {
    "papermill": {
     "duration": 0.154212,
     "end_time": "2023-01-18T08:07:35.904409",
     "exception": false,
     "start_time": "2023-01-18T08:07:35.750197",
     "status": "completed"
    },
    "tags": []
   },
   "outputs": [],
   "source": [
    "pie_chart_genres_count = genres_count.groupby(\"Genres\").agg({\n",
    "    \"Frequency\":\"sum\"\n",
    "}).reset_index()\n",
    "pie_chart_genres_count"
   ]
  },
  {
   "cell_type": "code",
   "execution_count": null,
   "id": "61842d3f",
   "metadata": {
    "papermill": {
     "duration": 0.194804,
     "end_time": "2023-01-18T08:07:36.235535",
     "exception": false,
     "start_time": "2023-01-18T08:07:36.040731",
     "status": "completed"
    },
    "tags": []
   },
   "outputs": [],
   "source": [
    "top_Genres_graph = px.pie(pie_chart_genres_count, values='Frequency', names='Genres', title='Top Games Genres').update_layout(width=800,height=650)\n",
    "top_Genres_graph.show()"
   ]
  },
  {
   "cell_type": "markdown",
   "id": "23cbdba1",
   "metadata": {
    "papermill": {
     "duration": 0.136015,
     "end_time": "2023-01-18T08:07:36.504903",
     "exception": false,
     "start_time": "2023-01-18T08:07:36.368888",
     "status": "completed"
    },
    "tags": []
   },
   "source": [
    "### Top 3 Genres by Average downloads "
   ]
  },
  {
   "cell_type": "code",
   "execution_count": null,
   "id": "11bf764d",
   "metadata": {
    "papermill": {
     "duration": 0.152239,
     "end_time": "2023-01-18T08:07:36.794684",
     "exception": false,
     "start_time": "2023-01-18T08:07:36.642445",
     "status": "completed"
    },
    "tags": []
   },
   "outputs": [],
   "source": [
    "df_Genres = df[[\"Name\",\"owners clean\",\"Price\",\"Genres\"]].copy()"
   ]
  },
  {
   "cell_type": "code",
   "execution_count": null,
   "id": "c07a59e1",
   "metadata": {
    "papermill": {
     "duration": 0.16222,
     "end_time": "2023-01-18T08:07:37.091502",
     "exception": false,
     "start_time": "2023-01-18T08:07:36.929282",
     "status": "completed"
    },
    "tags": []
   },
   "outputs": [],
   "source": [
    "df_Genres "
   ]
  },
  {
   "cell_type": "code",
   "execution_count": null,
   "id": "01d58ed2",
   "metadata": {
    "papermill": {
     "duration": 12.552831,
     "end_time": "2023-01-18T08:07:49.784458",
     "exception": false,
     "start_time": "2023-01-18T08:07:37.231627",
     "status": "completed"
    },
    "tags": []
   },
   "outputs": [],
   "source": [
    "for index, row in df_Genres.iterrows():\n",
    "    if \"Indie\" in row[\"Genres\"]:\n",
    "        df_Genres.at[index , \"Indie\"] = True\n",
    "for index, row in df_Genres.iterrows():\n",
    "    if \"Action\" in row[\"Genres\"]:\n",
    "        df_Genres.at[index ,\"Action\"] = True\n",
    "for index, row in df_Genres.iterrows():\n",
    "    if \"Casual\" in row[\"Genres\"]:\n",
    "        df_Genres.at[index ,\"Casual\"] = True"
   ]
  },
  {
   "cell_type": "code",
   "execution_count": null,
   "id": "49383c2e",
   "metadata": {
    "papermill": {
     "duration": 0.156998,
     "end_time": "2023-01-18T08:07:50.350412",
     "exception": false,
     "start_time": "2023-01-18T08:07:50.193414",
     "status": "completed"
    },
    "tags": []
   },
   "outputs": [],
   "source": [
    "# Average downloads for Indie Genre \n",
    "df_Genres.groupby(\"Indie\").agg({\"owners clean\":\"mean\"})"
   ]
  },
  {
   "cell_type": "code",
   "execution_count": null,
   "id": "9c3ec125",
   "metadata": {
    "papermill": {
     "duration": 0.152263,
     "end_time": "2023-01-18T08:07:50.639726",
     "exception": false,
     "start_time": "2023-01-18T08:07:50.487463",
     "status": "completed"
    },
    "tags": []
   },
   "outputs": [],
   "source": [
    "# Average downloads for Action Genre \n",
    "df_Genres.groupby(\"Action\").agg({\"owners clean\":\"mean\"})"
   ]
  },
  {
   "cell_type": "code",
   "execution_count": null,
   "id": "4be2437d",
   "metadata": {
    "papermill": {
     "duration": 0.151322,
     "end_time": "2023-01-18T08:07:50.925224",
     "exception": false,
     "start_time": "2023-01-18T08:07:50.773902",
     "status": "completed"
    },
    "tags": []
   },
   "outputs": [],
   "source": [
    "# Average downloads for Casual Genre \n",
    "df_Genres.groupby(\"Casual\").agg({\"owners clean\":\"mean\"})"
   ]
  },
  {
   "cell_type": "code",
   "execution_count": null,
   "id": "f2420e8c",
   "metadata": {
    "papermill": {
     "duration": 0.142763,
     "end_time": "2023-01-18T08:07:51.204316",
     "exception": false,
     "start_time": "2023-01-18T08:07:51.061553",
     "status": "completed"
    },
    "tags": []
   },
   "outputs": [],
   "source": [
    "df.columns"
   ]
  },
  {
   "cell_type": "markdown",
   "id": "a132d317",
   "metadata": {
    "papermill": {
     "duration": 0.13206,
     "end_time": "2023-01-18T08:07:51.471558",
     "exception": false,
     "start_time": "2023-01-18T08:07:51.339498",
     "status": "completed"
    },
    "tags": []
   },
   "source": [
    "### Most common year in which games were produced"
   ]
  },
  {
   "cell_type": "code",
   "execution_count": null,
   "id": "f994bdc1",
   "metadata": {
    "papermill": {
     "duration": 0.153136,
     "end_time": "2023-01-18T08:07:51.759606",
     "exception": false,
     "start_time": "2023-01-18T08:07:51.606470",
     "status": "completed"
    },
    "tags": []
   },
   "outputs": [],
   "source": [
    "df['year'] = df['Release date'].dt.year"
   ]
  },
  {
   "cell_type": "code",
   "execution_count": null,
   "id": "f2ba409e",
   "metadata": {
    "papermill": {
     "duration": 0.150107,
     "end_time": "2023-01-18T08:07:52.045934",
     "exception": false,
     "start_time": "2023-01-18T08:07:51.895827",
     "status": "completed"
    },
    "tags": []
   },
   "outputs": [],
   "source": [
    "df['year'].unique()"
   ]
  },
  {
   "cell_type": "code",
   "execution_count": null,
   "id": "c15927f5",
   "metadata": {
    "papermill": {
     "duration": 0.211222,
     "end_time": "2023-01-18T08:07:52.393752",
     "exception": false,
     "start_time": "2023-01-18T08:07:52.182530",
     "status": "completed"
    },
    "tags": []
   },
   "outputs": [],
   "source": [
    "years = df.groupby(\"year\").agg({\n",
    "    \"Name\":\"count\"\n",
    "}).reset_index()\n",
    "years.sort_values(\"Name\",ascending = False)"
   ]
  },
  {
   "cell_type": "code",
   "execution_count": null,
   "id": "f2556140",
   "metadata": {
    "papermill": {
     "duration": 0.197368,
     "end_time": "2023-01-18T08:07:52.726609",
     "exception": false,
     "start_time": "2023-01-18T08:07:52.529241",
     "status": "completed"
    },
    "tags": []
   },
   "outputs": [],
   "source": [
    "Number_of_games_produced_every_year_graph = px.scatter(years, x=\"year\", y=\"Name\", title='Number of games produced every year graph',\n",
    "  labels={ \"Name\": \"Total games\",})\n",
    "Number_of_games_produced_every_year_graph.show()"
   ]
  },
  {
   "cell_type": "code",
   "execution_count": null,
   "id": "790b4893-8fce-4d0d-b425-9f7a562ec5d4",
   "metadata": {},
   "outputs": [],
   "source": [
    "# Calculate the correlation matrix for Average Playtime and Positive Ratings\n",
    "correlation_positive_recommendations = df[['Positive', 'Recommendations']].corr()\n",
    "fig1 = px.imshow(correlation_positive_recommendations,\n",
    "                 text_auto=True,\n",
    "                 color_continuous_scale='Blues',\n",
    "                 title='Correlation Heatmap: Positive Ratings vs Recommendations')\n",
    "fig1.update_layout(width=600, height=400)\n",
    "fig1.show()"
   ]
  },
  {
   "cell_type": "code",
   "execution_count": null,
   "id": "48886ebf-20ac-4ccf-8df9-fe743952784b",
   "metadata": {},
   "outputs": [],
   "source": [
    "# Calculate the correlation matrix for Average Playtime and Positive Ratings\n",
    "correlation_playtime_positive = df[['Average playtime forever', 'Positive']].corr()\n",
    "fig2 = px.imshow(correlation_playtime_positive,\n",
    "                 text_auto=True,\n",
    "                 color_continuous_scale='Blues',\n",
    "                 title='Correlation Heatmap: Average Playtime vs Positive Ratings')\n",
    "fig2.update_layout(width=600, height=400)\n",
    "fig2.show()"
   ]
  },
  {
   "cell_type": "code",
   "execution_count": null,
   "id": "088d071b-b4cb-45da-92d3-d54a7ef17303",
   "metadata": {},
   "outputs": [],
   "source": [
    "# Standard Deviation of Average and Median Playtime for the Last Two Decades (2004-2024)\n",
    "playtime_std = df[df['year'].between(2004, 2024)].groupby('year').agg({\n",
    "    'Average playtime forever': 'std',\n",
    "    'Median playtime forever': 'std'\n",
    "}).reset_index()\n",
    "\n",
    "fig = px.imshow(playtime_std.set_index('year').T, color_continuous_scale='Blues', text_auto=True)\n",
    "fig.show()\n"
   ]
  },
  {
   "cell_type": "markdown",
   "id": "c5d69903-31e4-4fe4-afe7-e11e1d405967",
   "metadata": {},
   "source": [
    "#### Thank you for taking the time to explore my Exploratory Data Analysis (EDA) project. I appreciate your attention and support throughout this journey. If you have any questions or queries, please feel free to reach out."
   ]
  },
  {
   "cell_type": "code",
   "execution_count": null,
   "id": "4cf9a5fa-ea7d-476c-9768-ff446a1611c8",
   "metadata": {},
   "outputs": [],
   "source": [
    "# GAME OVER"
   ]
  }
 ],
 "metadata": {
  "kernelspec": {
   "display_name": "Python 3 (ipykernel)",
   "language": "python",
   "name": "python3"
  },
  "language_info": {
   "codemirror_mode": {
    "name": "ipython",
    "version": 3
   },
   "file_extension": ".py",
   "mimetype": "text/x-python",
   "name": "python",
   "nbconvert_exporter": "python",
   "pygments_lexer": "ipython3",
   "version": "3.12.4"
  },
  "papermill": {
   "default_parameters": {},
   "duration": 208.001329,
   "end_time": "2023-01-18T08:07:54.160251",
   "environment_variables": {},
   "exception": null,
   "input_path": "__notebook__.ipynb",
   "output_path": "__notebook__.ipynb",
   "parameters": {},
   "start_time": "2023-01-18T08:04:26.158922",
   "version": "2.3.4"
  }
 },
 "nbformat": 4,
 "nbformat_minor": 5
}
